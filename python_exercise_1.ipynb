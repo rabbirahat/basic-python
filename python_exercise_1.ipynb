{
  "cells": [
    {
      "cell_type": "markdown",
      "metadata": {
        "id": "4hScWPJs_TxX"
      },
      "source": [
        "# **Variables**\n",
        "\n",
        "\n",
        "\n",
        "\n",
        "\n",
        "\n",
        "\n",
        "\n",
        "\n"
      ]
    },
    {
      "cell_type": "markdown",
      "metadata": {
        "id": "6TJistrg_o5_"
      },
      "source": [
        "### 1. Create a variable to store your age and print it.\n"
      ]
    },
    {
      "cell_type": "code",
      "execution_count": 1,
      "metadata": {
        "colab": {
          "base_uri": "https://localhost:8080/"
        },
        "id": "E7rQzYUQ_443",
        "outputId": "87a5238c-0997-4b2b-bf71-5bbc9aaebbb9"
      },
      "outputs": [
        {
          "name": "stdout",
          "output_type": "stream",
          "text": [
            "24\n"
          ]
        }
      ],
      "source": [
        "age = 24\n",
        "print(age)"
      ]
    },
    {
      "cell_type": "markdown",
      "metadata": {
        "id": "HIGQG35VABvf"
      },
      "source": [
        "###2. Store two numbers in variables and display their sum."
      ]
    },
    {
      "cell_type": "code",
      "execution_count": null,
      "metadata": {
        "colab": {
          "base_uri": "https://localhost:8080/"
        },
        "id": "pR_gbzd1AEIe",
        "outputId": "2f513de5-3ca7-40ae-a442-b43c4d548b9c"
      },
      "outputs": [
        {
          "name": "stdout",
          "output_type": "stream",
          "text": [
            "10\n"
          ]
        }
      ],
      "source": [
        "num_1 = 5\n",
        "num_2 = 5\n",
        "print(num_1+num_2)"
      ]
    },
    {
      "cell_type": "markdown",
      "metadata": {
        "id": "1as_zcQTAQGv"
      },
      "source": [
        "###3. Assign three variables in a single line with values, then print them."
      ]
    },
    {
      "cell_type": "code",
      "execution_count": null,
      "metadata": {
        "colab": {
          "base_uri": "https://localhost:8080/"
        },
        "id": "SHX58g57ASXW",
        "outputId": "2c56d1ee-f7ea-4611-a82f-fb8f0972ae8f"
      },
      "outputs": [
        {
          "name": "stdout",
          "output_type": "stream",
          "text": [
            "1 2 3\n"
          ]
        }
      ],
      "source": [
        "var_1, var_2, var_3 = 1, 2, 3\n",
        "print(var_1, var_2, var_3)"
      ]
    },
    {
      "cell_type": "markdown",
      "metadata": {
        "id": "rY5Jr_8M2hV0"
      },
      "source": [
        "###4. Create variables for name, age, and city, and display a sentence using them."
      ]
    },
    {
      "cell_type": "code",
      "execution_count": null,
      "metadata": {
        "colab": {
          "base_uri": "https://localhost:8080/"
        },
        "id": "-_qsj-262mH0",
        "outputId": "a56698e9-9115-4a84-979a-edc158e1e9c3"
      },
      "outputs": [
        {
          "name": "stdout",
          "output_type": "stream",
          "text": [
            "I am Rahat, my age is 24 and I live in Dhaka\n"
          ]
        }
      ],
      "source": [
        "name = \"Rahat\"\n",
        "age = 24\n",
        "city = \"Dhaka\"\n",
        "print(f\"I am {name}, my age is {age} and I live in {city}\")"
      ]
    },
    {
      "cell_type": "markdown",
      "metadata": {
        "id": "tO9miGhP4SHg"
      },
      "source": [
        "###5. Swap values of two variables using a temporary variable."
      ]
    },
    {
      "cell_type": "code",
      "execution_count": null,
      "metadata": {
        "colab": {
          "base_uri": "https://localhost:8080/"
        },
        "id": "sXKuK4h34VaJ",
        "outputId": "0343071b-3101-4af3-f646-6a22a25ad39d"
      },
      "outputs": [
        {
          "name": "stdout",
          "output_type": "stream",
          "text": [
            "before swap num_1=5 & num_2=10\n",
            "after swap num_1=10 & num_2=5\n"
          ]
        }
      ],
      "source": [
        "num_1 = 5\n",
        "num_2 = 10\n",
        "print(f\"before swap num_1={num_1} & num_2={num_2}\")\n",
        "temp = num_1\n",
        "num_1 = num_2\n",
        "num_2 = temp\n",
        "print(f\"after swap num_1={num_1} & num_2={num_2}\")"
      ]
    },
    {
      "cell_type": "markdown",
      "metadata": {
        "id": "mzj7OyHU6g9F"
      },
      "source": [
        "###6. Swap values of two variables without using a temporary variable."
      ]
    },
    {
      "cell_type": "code",
      "execution_count": null,
      "metadata": {
        "colab": {
          "base_uri": "https://localhost:8080/"
        },
        "id": "3gLMv9y96ngQ",
        "outputId": "642166c1-4408-4070-e4da-be9493a4f8f0"
      },
      "outputs": [
        {
          "name": "stdout",
          "output_type": "stream",
          "text": [
            "before swap num_1=10 & num_2=20\n",
            "after swap num_1=20 & num_2=10\n"
          ]
        }
      ],
      "source": [
        "num_1 = 10\n",
        "num_2 = 20\n",
        "print(f\"before swap num_1={num_1} & num_2={num_2}\")\n",
        "num_1, num_2 = num_2, num_1\n",
        "print(f\"after swap num_1={num_1} & num_2={num_2}\")"
      ]
    },
    {
      "cell_type": "markdown",
      "metadata": {
        "id": "rvXEeVn19YfH"
      },
      "source": [
        "###7. Use meaningful variable names to represent a person's name, age, and occupation, then display them."
      ]
    },
    {
      "cell_type": "code",
      "execution_count": null,
      "metadata": {
        "colab": {
          "base_uri": "https://localhost:8080/"
        },
        "id": "JvJsxZWF9k11",
        "outputId": "7b4aa995-3879-417a-f0cb-19c583bc040f"
      },
      "outputs": [
        {
          "name": "stdout",
          "output_type": "stream",
          "text": [
            "I am Rahat.\n",
            "I am 24.\n",
            "I am a Student.\n"
          ]
        }
      ],
      "source": [
        "name = \"Rahat\"\n",
        "age = 24\n",
        "occupation = \"Student\"\n",
        "print(f\"I am {name}.\\nI am {age}.\\nI am a {occupation}.\")"
      ]
    },
    {
      "cell_type": "markdown",
      "metadata": {
        "id": "yLOWC7NW-ooK"
      },
      "source": [
        "# **Numeric Data Types**"
      ]
    },
    {
      "cell_type": "markdown",
      "metadata": {
        "id": "zqRbEI8S-0I8"
      },
      "source": [
        "###8. Define an integer, a float, and a complex number and print their types."
      ]
    },
    {
      "cell_type": "code",
      "execution_count": null,
      "metadata": {
        "colab": {
          "base_uri": "https://localhost:8080/"
        },
        "id": "WtJsUoRf-5Fu",
        "outputId": "d512d990-59e5-4bed-85af-922e1f80f415"
      },
      "outputs": [
        {
          "name": "stdout",
          "output_type": "stream",
          "text": [
            "<class 'int'>\n",
            "<class 'float'>\n",
            "<class 'complex'>\n"
          ]
        }
      ],
      "source": [
        "a = 5\n",
        "print(type(a))\n",
        "b = 5.6\n",
        "print(type(b))\n",
        "c = 5+7j\n",
        "print(type(c))"
      ]
    },
    {
      "cell_type": "markdown",
      "metadata": {
        "id": "ZbzrVkcw-6Mh"
      },
      "source": [
        "###9. Convert a float to an integer and print both values."
      ]
    },
    {
      "cell_type": "code",
      "execution_count": null,
      "metadata": {
        "colab": {
          "base_uri": "https://localhost:8080/"
        },
        "id": "CeZYk2DQ-81H",
        "outputId": "9e72bdbf-9b11-4fca-bcf5-272b72c1ca91"
      },
      "outputs": [
        {
          "name": "stdout",
          "output_type": "stream",
          "text": [
            "2.34\n",
            "2\n"
          ]
        }
      ],
      "source": [
        "x = 2.34\n",
        "print(x)\n",
        "y = int(x) # convert float to int\n",
        "print(y)"
      ]
    },
    {
      "cell_type": "markdown",
      "metadata": {
        "id": "bjeFrDBr-9QG"
      },
      "source": [
        "###10. Round a floating-point number to two decimal places."
      ]
    },
    {
      "cell_type": "code",
      "execution_count": null,
      "metadata": {
        "colab": {
          "base_uri": "https://localhost:8080/"
        },
        "id": "N-9NN1hq_ABK",
        "outputId": "175763d8-846a-4cc2-9bc6-a973975e380f"
      },
      "outputs": [
        {
          "name": "stdout",
          "output_type": "stream",
          "text": [
            "5.56\n"
          ]
        }
      ],
      "source": [
        "a = 5.555512\n",
        "print(f\"{a:.2f}\")"
      ]
    },
    {
      "cell_type": "markdown",
      "metadata": {
        "id": "7njNzO3fChxS"
      },
      "source": [
        "###11. Calculate the remainder when 100 is divided by 7."
      ]
    },
    {
      "cell_type": "code",
      "execution_count": null,
      "metadata": {
        "colab": {
          "base_uri": "https://localhost:8080/"
        },
        "id": "5UORXL85CkNt",
        "outputId": "def8780e-b63f-4c1d-bf4c-7213f2e43b3e"
      },
      "outputs": [
        {
          "name": "stdout",
          "output_type": "stream",
          "text": [
            "14.29\n"
          ]
        }
      ],
      "source": [
        "print(f\"{100/7:.2f}\")"
      ]
    },
    {
      "cell_type": "markdown",
      "metadata": {
        "id": "rc08nk-hEEjc"
      },
      "source": [
        "###12. Raise a number to the power of another (e.g., \\(5^3\\))."
      ]
    },
    {
      "cell_type": "code",
      "execution_count": null,
      "metadata": {
        "colab": {
          "base_uri": "https://localhost:8080/"
        },
        "id": "cvXIEuj_EIOV",
        "outputId": "0e7ffea0-9bb4-49b8-d77f-66c4239585bd"
      },
      "outputs": [
        {
          "name": "stdout",
          "output_type": "stream",
          "text": [
            "125\n"
          ]
        }
      ],
      "source": [
        "print(pow(5,3))"
      ]
    },
    {
      "cell_type": "markdown",
      "metadata": {
        "id": "OAM0vwLhEafb"
      },
      "source": [
        "###13. Find the absolute value of a negative number."
      ]
    },
    {
      "cell_type": "code",
      "execution_count": null,
      "metadata": {
        "colab": {
          "base_uri": "https://localhost:8080/"
        },
        "id": "0QCpXuuEEbfJ",
        "outputId": "f0fe052f-0e76-4b3a-8161-e154041f8030"
      },
      "outputs": [
        {
          "name": "stdout",
          "output_type": "stream",
          "text": [
            "2\n"
          ]
        }
      ],
      "source": [
        "print(abs(-2))"
      ]
    },
    {
      "cell_type": "markdown",
      "metadata": {
        "id": "rxl6v2Z8EkD6"
      },
      "source": [
        "###14. Use scientific notation to represent a very large or very small number."
      ]
    },
    {
      "cell_type": "code",
      "execution_count": null,
      "metadata": {
        "colab": {
          "base_uri": "https://localhost:8080/"
        },
        "id": "xq_F1dNzElRd",
        "outputId": "97cc355c-94a8-40e5-deb0-5e0a72a21ca7"
      },
      "outputs": [
        {
          "name": "stdout",
          "output_type": "stream",
          "text": [
            "1.234560e+07\n"
          ]
        }
      ],
      "source": [
        "scientific_format = \"{:e}\".format(12345603.23546)\n",
        "print(scientific_format)"
      ]
    },
    {
      "cell_type": "markdown",
      "metadata": {
        "id": "yAzDbyCIGEqv"
      },
      "source": [
        "###15. Use Python’s 'math' library to find the square root of a number."
      ]
    },
    {
      "cell_type": "code",
      "execution_count": null,
      "metadata": {
        "colab": {
          "base_uri": "https://localhost:8080/"
        },
        "id": "owBpY4E2GF68",
        "outputId": "79abda4b-7216-4f3c-b91b-af8ceb022b4a"
      },
      "outputs": [
        {
          "name": "stdout",
          "output_type": "stream",
          "text": [
            "8.0\n"
          ]
        }
      ],
      "source": [
        "import math\n",
        "num = math.sqrt(64)\n",
        "print(f\"{num:.1f}\")"
      ]
    },
    {
      "cell_type": "markdown",
      "metadata": {
        "id": "MoardiDGHhD8"
      },
      "source": [
        "###16. Convert an integer to a complex number and print the result."
      ]
    },
    {
      "cell_type": "code",
      "execution_count": null,
      "metadata": {
        "colab": {
          "base_uri": "https://localhost:8080/"
        },
        "id": "2QZcOSWEHiMq",
        "outputId": "2645cb03-93da-48fa-e903-7279c6d79d3d"
      },
      "outputs": [
        {
          "name": "stdout",
          "output_type": "stream",
          "text": [
            "(5+0j)\n"
          ]
        }
      ],
      "source": [
        "num = 5\n",
        "complex_num = complex(num)\n",
        "print(complex_num)"
      ]
    },
    {
      "cell_type": "markdown",
      "metadata": {
        "id": "lR9sjWj4H985"
      },
      "source": [
        "###17. Use 'math.pi' to calculate the circumference of a circle with radius 7."
      ]
    },
    {
      "cell_type": "code",
      "execution_count": null,
      "metadata": {
        "colab": {
          "base_uri": "https://localhost:8080/"
        },
        "id": "vFVbKzY3IB6s",
        "outputId": "6d2e57c9-3528-4dec-c444-34852d1d3d58"
      },
      "outputs": [
        {
          "name": "stdout",
          "output_type": "stream",
          "text": [
            "43.98\n"
          ]
        }
      ],
      "source": [
        "radius = 7\n",
        "print(round(2 * math.pi * radius, 2))"
      ]
    },
    {
      "cell_type": "markdown",
      "metadata": {
        "id": "ou39BjDuJRSc"
      },
      "source": [
        "# **Strings**"
      ]
    },
    {
      "cell_type": "markdown",
      "metadata": {
        "id": "qQJ8lSjIJY0O"
      },
      "source": [
        "###18. Create a string variable containing your full name and print it."
      ]
    },
    {
      "cell_type": "code",
      "execution_count": null,
      "metadata": {
        "colab": {
          "base_uri": "https://localhost:8080/"
        },
        "id": "QlggRVIEJcr2",
        "outputId": "bd38b128-14a4-401d-8fd7-b750cfdce790"
      },
      "outputs": [
        {
          "name": "stdout",
          "output_type": "stream",
          "text": [
            "Masudur Rabbi Rahat\n"
          ]
        }
      ],
      "source": [
        "name = \"Masudur Rabbi Rahat\"\n",
        "print(name)"
      ]
    },
    {
      "cell_type": "markdown",
      "metadata": {
        "id": "EbVuMTZwJdOk"
      },
      "source": [
        "###19. Find the length of a string stored in a variable."
      ]
    },
    {
      "cell_type": "code",
      "execution_count": null,
      "metadata": {
        "colab": {
          "base_uri": "https://localhost:8080/"
        },
        "id": "Aml5TYFFJfX3",
        "outputId": "daa7fabe-cc92-4c39-f8b2-4dc2097e5a79"
      },
      "outputs": [
        {
          "name": "stdout",
          "output_type": "stream",
          "text": [
            "11\n"
          ]
        }
      ],
      "source": [
        "str_var = \"Hello World\"\n",
        "print(len(str_var))"
      ]
    },
    {
      "cell_type": "markdown",
      "metadata": {
        "id": "YeMF0GEeKQ7n"
      },
      "source": [
        "###20. Concatenate two strings with a space in between."
      ]
    },
    {
      "cell_type": "code",
      "execution_count": null,
      "metadata": {
        "colab": {
          "base_uri": "https://localhost:8080/"
        },
        "id": "xrefMYuxKSye",
        "outputId": "9cfdd901-6fc0-4cc5-c500-feb4f0c7ec2e"
      },
      "outputs": [
        {
          "name": "stdout",
          "output_type": "stream",
          "text": [
            "Rabbi Rahat\n"
          ]
        }
      ],
      "source": [
        "f_name = \"Rabbi\"\n",
        "l_name = \"Rahat\"\n",
        "print(f_name+\" \"+l_name)"
      ]
    },
    {
      "cell_type": "markdown",
      "metadata": {
        "id": "wTb0_pHNKTdQ"
      },
      "source": [
        "###21. Convert a string to all uppercase letters."
      ]
    },
    {
      "cell_type": "code",
      "execution_count": null,
      "metadata": {
        "colab": {
          "base_uri": "https://localhost:8080/"
        },
        "id": "VAo_7ZBjKVab",
        "outputId": "3324f823-ce0d-489a-fc33-28cc5ae52a98"
      },
      "outputs": [
        {
          "name": "stdout",
          "output_type": "stream",
          "text": [
            "HELLO\n"
          ]
        }
      ],
      "source": [
        "str_1 = \"hello\"\n",
        "print(str_1.upper())"
      ]
    },
    {
      "cell_type": "markdown",
      "metadata": {
        "id": "P9reAf0tKV_L"
      },
      "source": [
        "###22. Convert a string to all lowercase letters."
      ]
    },
    {
      "cell_type": "code",
      "execution_count": null,
      "metadata": {
        "colab": {
          "base_uri": "https://localhost:8080/"
        },
        "id": "1ZlSR4boKYBy",
        "outputId": "d6203549-406c-4864-e40a-e5fb6688bec7"
      },
      "outputs": [
        {
          "name": "stdout",
          "output_type": "stream",
          "text": [
            "hello\n"
          ]
        }
      ],
      "source": [
        "str_1 = \"HELLO\"\n",
        "print(str_1.lower())"
      ]
    },
    {
      "cell_type": "markdown",
      "metadata": {
        "id": "HvdaQ03rKYYv"
      },
      "source": [
        "###23. Replace all occurrences of a character in a string with another character.\n",
        "\n"
      ]
    },
    {
      "cell_type": "code",
      "execution_count": null,
      "metadata": {
        "colab": {
          "base_uri": "https://localhost:8080/"
        },
        "id": "z8fFlvYkKafT",
        "outputId": "c29eee6d-60e2-4475-8eb0-f97d7f5daa1c"
      },
      "outputs": [
        {
          "name": "stdout",
          "output_type": "stream",
          "text": [
            "Hi world!\n"
          ]
        }
      ],
      "source": [
        "str_1 = \"Hello world!\"\n",
        "print(str_1.replace(\"Hello\",\"Hi\"))"
      ]
    },
    {
      "cell_type": "markdown",
      "metadata": {
        "id": "ovjEbDWeKa51"
      },
      "source": [
        "###24. Check if a given substring is in a string."
      ]
    },
    {
      "cell_type": "code",
      "execution_count": null,
      "metadata": {
        "colab": {
          "base_uri": "https://localhost:8080/"
        },
        "id": "az013QmSKdmt",
        "outputId": "58bc674d-87ce-47af-d602-f8fe28530222"
      },
      "outputs": [
        {
          "name": "stdout",
          "output_type": "stream",
          "text": [
            "'hello' is found in the main string\n"
          ]
        }
      ],
      "source": [
        "main_string =\"hello world\"\n",
        "sub_string = \"hello\"\n",
        "\n",
        "if sub_string in main_string:\n",
        "    print(f\"'{sub_string}' is found in the main string\")\n",
        "else:\n",
        "    print(f\"'{sub_string}' is not found in the main string\")"
      ]
    },
    {
      "cell_type": "markdown",
      "metadata": {
        "id": "-2N7oTSDO6DM"
      },
      "source": [
        "###25. Extract the last character from a string."
      ]
    },
    {
      "cell_type": "code",
      "execution_count": null,
      "metadata": {
        "colab": {
          "base_uri": "https://localhost:8080/"
        },
        "id": "jeezwupsO7-T",
        "outputId": "0d3131b5-4f96-4157-bc38-3515b5151773"
      },
      "outputs": [
        {
          "name": "stdout",
          "output_type": "stream",
          "text": [
            "!\n"
          ]
        }
      ],
      "source": [
        "my_string = \"hello world!\"\n",
        "last_char = my_string[-1]\n",
        "print(last_char)"
      ]
    },
    {
      "cell_type": "markdown",
      "metadata": {
        "id": "m4njMUkLO-lK"
      },
      "source": [
        "###26. Reverse a string using slicing."
      ]
    },
    {
      "cell_type": "code",
      "execution_count": null,
      "metadata": {
        "colab": {
          "base_uri": "https://localhost:8080/"
        },
        "id": "3nYKaJNrO_kK",
        "outputId": "8caf84b7-aefa-437d-cea8-8476a267d657"
      },
      "outputs": [
        {
          "name": "stdout",
          "output_type": "stream",
          "text": [
            "The reversed string is: '!dlrow olleh'\n"
          ]
        }
      ],
      "source": [
        "str_1 = \"hello world!\"\n",
        "reversed_string = str_1[::-1]\n",
        "print(f\"The reversed string is: '{reversed_string}'\")"
      ]
    },
    {
      "cell_type": "markdown",
      "metadata": {
        "id": "JT1wGpGcPAki"
      },
      "source": [
        "###27. Create a multi-line string and print it."
      ]
    },
    {
      "cell_type": "code",
      "execution_count": null,
      "metadata": {
        "colab": {
          "base_uri": "https://localhost:8080/"
        },
        "id": "WC4VABdAPHh7",
        "outputId": "49c5547a-acca-4a0a-fe55-aac77ffa38f7"
      },
      "outputs": [
        {
          "name": "stdout",
          "output_type": "stream",
          "text": [
            "Hello world!\n",
            "I am learning Python.\n",
            "This is multiline comment\n",
            "\n"
          ]
        }
      ],
      "source": [
        "str_1 = '''Hello world!\n",
        "I am learning Python.\n",
        "This is multiline comment\n",
        "'''\n",
        "print(str_1)"
      ]
    },
    {
      "cell_type": "markdown",
      "metadata": {
        "id": "E6leCDpOTKrN"
      },
      "source": [
        "# String Slicing"
      ]
    },
    {
      "cell_type": "markdown",
      "metadata": {
        "id": "1krfpAcNTnd_"
      },
      "source": [
        "###28. Extract the first five characters of a string."
      ]
    },
    {
      "cell_type": "code",
      "execution_count": null,
      "metadata": {
        "colab": {
          "base_uri": "https://localhost:8080/"
        },
        "id": "v7KyKz5qTsgF",
        "outputId": "f2a3dad2-42e2-4b4e-a0de-1913a8bfc35e"
      },
      "outputs": [
        {
          "name": "stdout",
          "output_type": "stream",
          "text": [
            "hello\n"
          ]
        }
      ],
      "source": [
        "str_1 = \"hello world\"\n",
        "print(str_1[0:5])"
      ]
    },
    {
      "cell_type": "markdown",
      "metadata": {
        "id": "4ltpz0azUeSw"
      },
      "source": [
        "###29. Slice the last three characters of a string."
      ]
    },
    {
      "cell_type": "code",
      "execution_count": null,
      "metadata": {
        "colab": {
          "base_uri": "https://localhost:8080/"
        },
        "id": "Qe4vvWiZUhNe",
        "outputId": "9340b6b1-1ee2-4586-afc1-33d0414564d5"
      },
      "outputs": [
        {
          "name": "stdout",
          "output_type": "stream",
          "text": [
            "yst\n"
          ]
        }
      ],
      "source": [
        "str_1 = \"DataAnalyst\"\n",
        "print(str_1[-3:])"
      ]
    },
    {
      "cell_type": "markdown",
      "metadata": {
        "id": "3fJCLarTV5yw"
      },
      "source": [
        "###30. Extract a substring from the 2nd to the 6th character of a string."
      ]
    },
    {
      "cell_type": "code",
      "execution_count": null,
      "metadata": {
        "colab": {
          "base_uri": "https://localhost:8080/"
        },
        "id": "fBrviWHkV8V1",
        "outputId": "5e0832a7-57f1-43dc-a751-26aa714ed64f"
      },
      "outputs": [
        {
          "name": "stdout",
          "output_type": "stream",
          "text": [
            "ataAn\n"
          ]
        }
      ],
      "source": [
        "str_1 = \"DataAnalyst\"\n",
        "print(str_1[1:6])"
      ]
    },
    {
      "cell_type": "markdown",
      "metadata": {
        "id": "jqfMZULgnMvG"
      },
      "source": [
        "###31. Get every alternate character in a string."
      ]
    },
    {
      "cell_type": "code",
      "execution_count": null,
      "metadata": {
        "colab": {
          "base_uri": "https://localhost:8080/"
        },
        "id": "qHlX2Fi7nQBV",
        "outputId": "3f122883-07ee-4e4e-c1c9-933fe2473366"
      },
      "outputs": [
        {
          "name": "stdout",
          "output_type": "stream",
          "text": [
            "DtAayt\n"
          ]
        }
      ],
      "source": [
        "str_1 = \"DataAnalyst\"\n",
        "print(str_1[::2])"
      ]
    },
    {
      "cell_type": "markdown",
      "metadata": {
        "id": "ntF8BQYjoaC6"
      },
      "source": [
        "###32. Remove the first character from a string using slicing."
      ]
    },
    {
      "cell_type": "code",
      "execution_count": null,
      "metadata": {
        "colab": {
          "base_uri": "https://localhost:8080/"
        },
        "id": "UZg7NA4iobO9",
        "outputId": "c9064b78-ba93-4d35-8831-bd4a49ce4c68"
      },
      "outputs": [
        {
          "name": "stdout",
          "output_type": "stream",
          "text": [
            "ataAnalyst\n"
          ]
        }
      ],
      "source": [
        "str_1 = \"DataAnalyst\"\n",
        "print(str_1[1:])"
      ]
    },
    {
      "cell_type": "markdown",
      "metadata": {
        "id": "nkq0WbELpOt0"
      },
      "source": [
        "###33. Extract a substring from the middle of a string."
      ]
    },
    {
      "cell_type": "code",
      "execution_count": null,
      "metadata": {
        "colab": {
          "base_uri": "https://localhost:8080/"
        },
        "id": "gkKtWL-6pPyj",
        "outputId": "2371a3a9-84c1-425a-fe25-acb435d15df6"
      },
      "outputs": [
        {
          "name": "stdout",
          "output_type": "stream",
          "text": [
            "Ana\n"
          ]
        }
      ],
      "source": [
        "str_1 = \"DataAnalyst\"\n",
        "print(str_1[4:7])"
      ]
    },
    {
      "cell_type": "markdown",
      "metadata": {
        "id": "hTfXTvspp6Pk"
      },
      "source": [
        "###34. Use negative indexing to get the last three characters of a string."
      ]
    },
    {
      "cell_type": "code",
      "execution_count": null,
      "metadata": {
        "colab": {
          "base_uri": "https://localhost:8080/"
        },
        "id": "14S9NO6ap-oq",
        "outputId": "0ab1b5eb-7070-4edd-f660-9bac3e8c401b"
      },
      "outputs": [
        {
          "name": "stdout",
          "output_type": "stream",
          "text": [
            "yst\n"
          ]
        }
      ],
      "source": [
        "str_1 = \"DataAnalyst\"\n",
        "print(str_1[-3:])"
      ]
    },
    {
      "cell_type": "markdown",
      "metadata": {
        "id": "OV_qZPVPqQKE"
      },
      "source": [
        "###35. Create a new string from a given string by skipping every third character."
      ]
    },
    {
      "cell_type": "code",
      "execution_count": null,
      "metadata": {
        "colab": {
          "base_uri": "https://localhost:8080/"
        },
        "id": "_rwV0JiiqRum",
        "outputId": "7cec647f-cfd0-45c7-9366-28f36850dd7b"
      },
      "outputs": [
        {
          "name": "stdout",
          "output_type": "stream",
          "text": [
            "abdeghjkm\n"
          ]
        }
      ],
      "source": [
        "string = \"abcdefghijklm\"\n",
        "new_string = \"\"\n",
        "for i in range(len(string)):\n",
        "    if (i+1) % 3 != 0:\n",
        "        new_string += string[i]\n",
        "\n",
        "print(new_string)"
      ]
    },
    {
      "cell_type": "markdown",
      "metadata": {
        "id": "lfYu7GUquY8z"
      },
      "source": [
        "# Lists"
      ]
    },
    {
      "cell_type": "markdown",
      "metadata": {
        "id": "wup4olxQuogh"
      },
      "source": [
        "###36. Create a list of five fruits and print it."
      ]
    },
    {
      "cell_type": "code",
      "execution_count": null,
      "metadata": {
        "colab": {
          "base_uri": "https://localhost:8080/"
        },
        "id": "EaPeoFCSur--",
        "outputId": "9c3aa23a-9202-4cd5-c4c1-95cfb4ab225a"
      },
      "outputs": [
        {
          "name": "stdout",
          "output_type": "stream",
          "text": [
            "['apple', 'orange', 'banana', 'mango', 'grape']\n",
            "<class 'list'>\n"
          ]
        }
      ],
      "source": [
        "fruits = [\"apple\", \"orange\", \"banana\", \"mango\", \"grape\"]\n",
        "print(fruits)"
      ]
    },
    {
      "cell_type": "markdown",
      "metadata": {
        "id": "uQGXHsWruslB"
      },
      "source": [
        "###37. Access the third item in a list."
      ]
    },
    {
      "cell_type": "code",
      "execution_count": null,
      "metadata": {
        "colab": {
          "base_uri": "https://localhost:8080/"
        },
        "id": "e3TtmlpzuvUV",
        "outputId": "6e680483-271b-4e02-a8fe-a18d2e6c258b"
      },
      "outputs": [
        {
          "name": "stdout",
          "output_type": "stream",
          "text": [
            "banana\n"
          ]
        }
      ],
      "source": [
        "fruits = [\"apple\", \"orange\", \"banana\", \"mango\", \"grape\"]\n",
        "print(fruits[2])"
      ]
    },
    {
      "cell_type": "markdown",
      "metadata": {
        "id": "rIQ_5rQ6uxHY"
      },
      "source": [
        "###38. Modify the second item in a list."
      ]
    },
    {
      "cell_type": "code",
      "execution_count": null,
      "metadata": {
        "colab": {
          "base_uri": "https://localhost:8080/"
        },
        "id": "FDrKb9hCuycq",
        "outputId": "505bd3fb-92fa-400f-fa4d-4d9927b70ca9"
      },
      "outputs": [
        {
          "name": "stdout",
          "output_type": "stream",
          "text": [
            "['apple', 'watermelon', 'banana', 'mango', 'grape']\n"
          ]
        }
      ],
      "source": [
        "fruits = [\"apple\", \"orange\", \"banana\", \"mango\", \"grape\"]\n",
        "fruits[1] = \"watermelon\"\n",
        "print(fruits)"
      ]
    },
    {
      "cell_type": "markdown",
      "metadata": {
        "id": "40jl4e0ku0Hv"
      },
      "source": [
        "###39. Add a new item to the end of a list."
      ]
    },
    {
      "cell_type": "code",
      "execution_count": null,
      "metadata": {
        "colab": {
          "base_uri": "https://localhost:8080/"
        },
        "id": "XaPMSrtCu1EK",
        "outputId": "4403bce5-fda8-4d6d-9154-350d9975260e"
      },
      "outputs": [
        {
          "name": "stdout",
          "output_type": "stream",
          "text": [
            "['apple', 'orange', 'banana', 'mango', 'grape', 'watermelon']\n"
          ]
        }
      ],
      "source": [
        "fruits = [\"apple\", \"orange\", \"banana\", \"mango\", \"grape\"]\n",
        "fruits.append(\"watermelon\")\n",
        "print(fruits)"
      ]
    },
    {
      "cell_type": "markdown",
      "metadata": {
        "id": "FL9OgOtyu1lN"
      },
      "source": [
        "###40. Insert an item at the second position in a list."
      ]
    },
    {
      "cell_type": "code",
      "execution_count": null,
      "metadata": {
        "colab": {
          "base_uri": "https://localhost:8080/"
        },
        "id": "1fUvXTlyu4Co",
        "outputId": "d682b0a9-4204-4ebe-8d4c-45587986387d"
      },
      "outputs": [
        {
          "name": "stdout",
          "output_type": "stream",
          "text": [
            "['apple', 'watermelon', 'orange', 'banana', 'mango', 'grape']\n"
          ]
        }
      ],
      "source": [
        "fruits = [\"apple\", \"orange\", \"banana\", \"mango\", \"grape\"]\n",
        "fruits.insert(1, \"watermelon\")\n",
        "print(fruits)"
      ]
    },
    {
      "cell_type": "markdown",
      "metadata": {
        "id": "Ofgo5CEGu4yt"
      },
      "source": [
        "###41. Remove the first item from a list."
      ]
    },
    {
      "cell_type": "code",
      "execution_count": null,
      "metadata": {
        "colab": {
          "base_uri": "https://localhost:8080/"
        },
        "id": "Ba3cVLpHu_fa",
        "outputId": "acead693-d291-48d7-fc33-e729e7e03894"
      },
      "outputs": [
        {
          "name": "stdout",
          "output_type": "stream",
          "text": [
            "['orange', 'banana', 'mango', 'grape']\n"
          ]
        }
      ],
      "source": [
        "fruits = [\"apple\", \"orange\", \"banana\", \"mango\", \"grape\"]\n",
        "fruits.pop(0)\n",
        "print(fruits)"
      ]
    },
    {
      "cell_type": "markdown",
      "metadata": {
        "id": "1ItIdEcvvAOA"
      },
      "source": [
        "###42. Remove an item by value from a list."
      ]
    },
    {
      "cell_type": "code",
      "execution_count": null,
      "metadata": {
        "colab": {
          "base_uri": "https://localhost:8080/"
        },
        "id": "J7UtGmeNvCpl",
        "outputId": "423d3408-cbfc-4eb4-80fe-3f3be926edea"
      },
      "outputs": [
        {
          "name": "stdout",
          "output_type": "stream",
          "text": [
            "['apple', 'orange', 'banana', 'mango']\n"
          ]
        }
      ],
      "source": [
        "fruits = [\"apple\", \"orange\", \"banana\", \"mango\", \"grape\"]\n",
        "fruits.remove(\"grape\")\n",
        "print(fruits)"
      ]
    },
    {
      "cell_type": "markdown",
      "metadata": {
        "id": "IQc9gEGgvDHW"
      },
      "source": [
        "###43. Find the length of a list."
      ]
    },
    {
      "cell_type": "code",
      "execution_count": null,
      "metadata": {
        "colab": {
          "base_uri": "https://localhost:8080/"
        },
        "id": "5xMC66wnvFSZ",
        "outputId": "36c0a2a7-677c-4e8e-bec4-176f3eb26a98"
      },
      "outputs": [
        {
          "name": "stdout",
          "output_type": "stream",
          "text": [
            "5\n"
          ]
        }
      ],
      "source": [
        "fruits = [\"apple\", \"orange\", \"banana\", \"mango\", \"grape\"]\n",
        "print(len(fruits))"
      ]
    },
    {
      "cell_type": "markdown",
      "metadata": {
        "id": "MdxMnfoZvF4Z"
      },
      "source": [
        "###44. Check if a certain item is in a list."
      ]
    },
    {
      "cell_type": "code",
      "execution_count": null,
      "metadata": {
        "colab": {
          "base_uri": "https://localhost:8080/"
        },
        "id": "Ph6k2PphvI0V",
        "outputId": "67af1e44-ef1d-4c20-8c87-df7251a92160"
      },
      "outputs": [
        {
          "name": "stdout",
          "output_type": "stream",
          "text": [
            "No, 'banana' is not in the fruits list\n"
          ]
        }
      ],
      "source": [
        "fruits = [\"apple\", \"orange\", \"banana\", \"mango\", \"grape\"]\n",
        "if \"banana\" in fruits:\n",
        "    print(f\"Yes, 'banana' is in the fruits list\")\n",
        "else:\n",
        "    print(f\"No, 'banana' is not in the fruits list\")"
      ]
    },
    {
      "cell_type": "markdown",
      "metadata": {
        "id": "SvWpLrH3vJl3"
      },
      "source": [
        "###45. Combine two lists into one."
      ]
    },
    {
      "cell_type": "code",
      "execution_count": null,
      "metadata": {
        "colab": {
          "base_uri": "https://localhost:8080/"
        },
        "id": "IhBaxI74vMIw",
        "outputId": "e82904d9-79b7-444a-90e0-b1a0ddfb125c"
      },
      "outputs": [
        {
          "name": "stdout",
          "output_type": "stream",
          "text": [
            "[1, 2, 3, 4, 5, 6]\n"
          ]
        }
      ],
      "source": [
        "list_1 = [1, 2, 3]\n",
        "list_2 = [4, 5, 6]\n",
        "list_1.extend(list_2)\n",
        "print(list_1)"
      ]
    },
    {
      "cell_type": "markdown",
      "metadata": {
        "id": "_L2T5-fJIOE4"
      },
      "source": [
        "# List Slicing"
      ]
    },
    {
      "cell_type": "markdown",
      "metadata": {
        "id": "M_9MPNUzIXq-"
      },
      "source": [
        "###46. Slice the first three elements of a list."
      ]
    },
    {
      "cell_type": "code",
      "execution_count": null,
      "metadata": {
        "colab": {
          "base_uri": "https://localhost:8080/"
        },
        "id": "YI2_pEE8IZqZ",
        "outputId": "cbf85298-1fbc-4fe5-8d1e-5a1baf9ceb68"
      },
      "outputs": [
        {
          "name": "stdout",
          "output_type": "stream",
          "text": [
            "['apple', 'orange', 'banana']\n"
          ]
        }
      ],
      "source": [
        "fruits = [\"apple\", \"orange\", \"banana\", \"mango\", \"grape\"]\n",
        "print(fruits[0:3])"
      ]
    },
    {
      "cell_type": "markdown",
      "metadata": {
        "id": "q1BZX3hJIaA6"
      },
      "source": [
        "###47. Get the last two elements of a list using slicing."
      ]
    },
    {
      "cell_type": "code",
      "execution_count": null,
      "metadata": {
        "colab": {
          "base_uri": "https://localhost:8080/"
        },
        "id": "BwKIOYsTIb8u",
        "outputId": "9abb00dc-a613-43e5-e5b7-a23028fcd99c"
      },
      "outputs": [
        {
          "name": "stdout",
          "output_type": "stream",
          "text": [
            "['mango', 'grape']\n"
          ]
        }
      ],
      "source": [
        "fruits = [\"apple\", \"orange\", \"banana\", \"mango\", \"grape\"]\n",
        "print(fruits[-2:])"
      ]
    },
    {
      "cell_type": "markdown",
      "metadata": {
        "id": "soYwwfekIcju"
      },
      "source": [
        "###48. Extract elements from index 2 to 4 from a list."
      ]
    },
    {
      "cell_type": "code",
      "execution_count": null,
      "metadata": {
        "colab": {
          "base_uri": "https://localhost:8080/"
        },
        "id": "Pa4vADcQIfJv",
        "outputId": "ffde7733-5042-4c02-a028-7de9e234525c"
      },
      "outputs": [
        {
          "name": "stdout",
          "output_type": "stream",
          "text": [
            "['banana', 'mango', 'grape']\n"
          ]
        }
      ],
      "source": [
        "fruits = [\"apple\", \"orange\", \"banana\", \"mango\", \"grape\", \"watermelon\"]\n",
        "print(fruits[2:5])"
      ]
    },
    {
      "cell_type": "markdown",
      "metadata": {
        "id": "lmYImU2mIfyH"
      },
      "source": [
        "###49. Get every alternate element in a list using slicing."
      ]
    },
    {
      "cell_type": "code",
      "execution_count": null,
      "metadata": {
        "colab": {
          "base_uri": "https://localhost:8080/"
        },
        "id": "tg5YZVDBIhw9",
        "outputId": "6af69b80-22df-41ce-c3af-c452d79e7a3c"
      },
      "outputs": [
        {
          "name": "stdout",
          "output_type": "stream",
          "text": [
            "['apple', 'banana', 'grape']\n"
          ]
        }
      ],
      "source": [
        "fruits = [\"apple\", \"orange\", \"banana\", \"mango\", \"grape\", \"watermelon\"]\n",
        "print(fruits[::2])"
      ]
    },
    {
      "cell_type": "markdown",
      "metadata": {
        "id": "Mtrex3h1IiRF"
      },
      "source": [
        "###50. Reverse a list using slicing."
      ]
    },
    {
      "cell_type": "code",
      "execution_count": null,
      "metadata": {
        "colab": {
          "base_uri": "https://localhost:8080/"
        },
        "id": "s7vWn1qXIkHz",
        "outputId": "e8f3271c-b7f7-418f-94be-eac991b2a141"
      },
      "outputs": [
        {
          "name": "stdout",
          "output_type": "stream",
          "text": [
            "['watermelon', 'grape', 'mango', 'banana', 'orange', 'apple']\n"
          ]
        }
      ],
      "source": [
        "fruits = [\"apple\", \"orange\", \"banana\", \"mango\", \"grape\", \"watermelon\"]\n",
        "print(fruits[::-1])"
      ]
    },
    {
      "cell_type": "markdown",
      "metadata": {
        "id": "0Au5YYDxIkap"
      },
      "source": [
        "###51. Slice out the middle portion of a list."
      ]
    },
    {
      "cell_type": "code",
      "execution_count": null,
      "metadata": {
        "colab": {
          "base_uri": "https://localhost:8080/"
        },
        "id": "cE4ETWxCImDg",
        "outputId": "b03c2266-280a-42a3-ec8a-b13d23ba2b3e"
      },
      "outputs": [
        {
          "name": "stdout",
          "output_type": "stream",
          "text": [
            "['banana', 'mango']\n"
          ]
        }
      ],
      "source": [
        "fruits = [\"apple\", \"orange\", \"banana\", \"mango\", \"grape\", \"watermelon\"]\n",
        "print(fruits[2:4])"
      ]
    },
    {
      "cell_type": "markdown",
      "metadata": {
        "id": "fnkQOCbHImWA"
      },
      "source": [
        "###52. Remove the last element from a list without using any built-in functions."
      ]
    },
    {
      "cell_type": "code",
      "execution_count": null,
      "metadata": {
        "colab": {
          "base_uri": "https://localhost:8080/"
        },
        "id": "yITEEIVhIoYp",
        "outputId": "ef381200-b334-4d19-9596-110ee8687b27"
      },
      "outputs": [
        {
          "name": "stdout",
          "output_type": "stream",
          "text": [
            "Original List:  ['apple', 'orange', 'banana', 'mango', 'grape', 'watermelon']\n",
            "New List:  ['apple', 'orange', 'banana', 'mango', 'grape']\n"
          ]
        }
      ],
      "source": [
        "fruits = [\"apple\", \"orange\", \"banana\", \"mango\", \"grape\", \"watermelon\"]\n",
        "print(\"Original List: \", fruits)\n",
        "\n",
        "fruits = fruits[:-1]\n",
        "print(\"New List: \", fruits)"
      ]
    },
    {
      "cell_type": "markdown",
      "metadata": {
        "id": "9SejXYn8Iovl"
      },
      "source": [
        "###53. Use negative indexing to get the last three elements of a list."
      ]
    },
    {
      "cell_type": "code",
      "execution_count": null,
      "metadata": {
        "colab": {
          "base_uri": "https://localhost:8080/"
        },
        "id": "tWZis2K5IqkF",
        "outputId": "49aeb705-220a-4fe9-c55e-2e4bb9033b1d"
      },
      "outputs": [
        {
          "name": "stdout",
          "output_type": "stream",
          "text": [
            "['mango', 'grape', 'watermelon']\n"
          ]
        }
      ],
      "source": [
        "fruits = [\"apple\", \"orange\", \"banana\", \"mango\", \"grape\", \"watermelon\"]\n",
        "print(fruits[-3:])"
      ]
    },
    {
      "cell_type": "markdown",
      "metadata": {
        "id": "FET5BcTkIq35"
      },
      "source": [
        "###54. Create a new list that excludes the first and last elements of an existing list."
      ]
    },
    {
      "cell_type": "code",
      "execution_count": null,
      "metadata": {
        "colab": {
          "base_uri": "https://localhost:8080/"
        },
        "id": "sUcUa_TBIvJy",
        "outputId": "4c12e91a-00ce-4642-b2ca-74689baa09e6"
      },
      "outputs": [
        {
          "name": "stdout",
          "output_type": "stream",
          "text": [
            "['orange', 'banana', 'mango', 'grape']\n"
          ]
        }
      ],
      "source": [
        "fruits = [\"apple\", \"orange\", \"banana\", \"mango\", \"grape\", \"watermelon\"]\n",
        "fruits = fruits[1:] # exclude the 1st element\n",
        "fruits = fruits[:-1] # exclude the last element\n",
        "print(fruits)"
      ]
    },
    {
      "cell_type": "markdown",
      "metadata": {
        "id": "UtwVOQiGIxkt"
      },
      "source": [
        "# Sets"
      ]
    },
    {
      "cell_type": "markdown",
      "metadata": {
        "id": "KRbtuwvaI1GT"
      },
      "source": [
        "###55. Create a set of five numbers and print it."
      ]
    },
    {
      "cell_type": "code",
      "execution_count": null,
      "metadata": {
        "colab": {
          "base_uri": "https://localhost:8080/"
        },
        "id": "Jtcx2oJjI3M9",
        "outputId": "1aebf5f7-ac83-45a7-df88-b13e94333513"
      },
      "outputs": [
        {
          "name": "stdout",
          "output_type": "stream",
          "text": [
            "{1, 2, 3, 4, 5}\n"
          ]
        }
      ],
      "source": [
        "num = {1, 2, 3, 4, 5}\n",
        "print(num)"
      ]
    },
    {
      "cell_type": "markdown",
      "metadata": {
        "id": "zUS2kGsBI3hU"
      },
      "source": [
        "###56. Add a new element to a set."
      ]
    },
    {
      "cell_type": "code",
      "execution_count": null,
      "metadata": {
        "colab": {
          "base_uri": "https://localhost:8080/"
        },
        "id": "3fAXYK9BI500",
        "outputId": "cc88c90b-1190-4249-f6a4-5fe76ba7eb0f"
      },
      "outputs": [
        {
          "name": "stdout",
          "output_type": "stream",
          "text": [
            "{1, 2, 3, 4, 5, 6}\n"
          ]
        }
      ],
      "source": [
        "num = {1, 2, 3, 4, 5}\n",
        "num.add(6)\n",
        "print(num)"
      ]
    },
    {
      "cell_type": "markdown",
      "metadata": {
        "id": "IBBiQwnOI6W9"
      },
      "source": [
        "###57. Remove an element from a set."
      ]
    },
    {
      "cell_type": "code",
      "execution_count": null,
      "metadata": {
        "colab": {
          "base_uri": "https://localhost:8080/"
        },
        "id": "6rfRi_N5I8FN",
        "outputId": "e894f0a7-0d76-45be-ed83-fa3964d81e56"
      },
      "outputs": [
        {
          "name": "stdout",
          "output_type": "stream",
          "text": [
            "{1, 2, 3, 4, 5}\n"
          ]
        }
      ],
      "source": [
        "num = {1, 2, 3, 4, 5, 6}\n",
        "num.remove(6)\n",
        "print(num)"
      ]
    },
    {
      "cell_type": "markdown",
      "metadata": {
        "id": "s6DIcGJLI8Y3"
      },
      "source": [
        "###58. Check if a value is in a set."
      ]
    },
    {
      "cell_type": "code",
      "execution_count": null,
      "metadata": {
        "colab": {
          "base_uri": "https://localhost:8080/"
        },
        "id": "UKgq6LIEI-4M",
        "outputId": "9de3e0f3-7f33-40da-8d82-8067ac1a06e1"
      },
      "outputs": [
        {
          "name": "stdout",
          "output_type": "stream",
          "text": [
            "yes, 6 is in the set\n"
          ]
        }
      ],
      "source": [
        "num = {1, 2, 3, 4, 5, 6}\n",
        "if 6 in num:\n",
        "    print(\"yes, 6 is in the set\")\n",
        "else:\n",
        "    print(\"no, 6 is not in the set\")"
      ]
    },
    {
      "cell_type": "markdown",
      "metadata": {
        "id": "-kdmhS6EI_MO"
      },
      "source": [
        "###59. Combine two sets using union."
      ]
    },
    {
      "cell_type": "code",
      "execution_count": null,
      "metadata": {
        "colab": {
          "base_uri": "https://localhost:8080/"
        },
        "id": "RJgHdxu9JCE-",
        "outputId": "194bbcbb-b314-4fa8-f520-139c93efb13d"
      },
      "outputs": [
        {
          "name": "stdout",
          "output_type": "stream",
          "text": [
            "{'c', 1, 2, 3, 'a', 'b'}\n"
          ]
        }
      ],
      "source": [
        "set1 = {\"a\", \"b\" , \"c\"}\n",
        "set2 = {1, 2, 3}\n",
        "\n",
        "set3 = set1.union(set2)\n",
        "print(set3)"
      ]
    },
    {
      "cell_type": "markdown",
      "metadata": {
        "id": "4POkxz2tJCnV"
      },
      "source": [
        "###60. Find the intersection of two sets."
      ]
    },
    {
      "cell_type": "code",
      "execution_count": null,
      "metadata": {
        "colab": {
          "base_uri": "https://localhost:8080/"
        },
        "id": "FwDxH1qwJDuj",
        "outputId": "2b05498b-0a4b-42e2-8a60-ca5e98b89731"
      },
      "outputs": [
        {
          "name": "stdout",
          "output_type": "stream",
          "text": [
            "{3}\n"
          ]
        }
      ],
      "source": [
        "num1 = {1, 2, 3}\n",
        "num2 = {3, 5, 6}\n",
        "\n",
        "num3 = num1.intersection(num2)\n",
        "print(num3)"
      ]
    },
    {
      "cell_type": "markdown",
      "metadata": {
        "id": "4Y6Zje0GJE2q"
      },
      "source": [
        "###61. Find the difference between two sets."
      ]
    },
    {
      "cell_type": "code",
      "execution_count": null,
      "metadata": {
        "colab": {
          "base_uri": "https://localhost:8080/"
        },
        "id": "W20pJyVRJFoO",
        "outputId": "e9649c49-4690-45c1-82b8-8b0be975c763"
      },
      "outputs": [
        {
          "name": "stdout",
          "output_type": "stream",
          "text": [
            "{1, 2}\n",
            "{5, 6}\n"
          ]
        }
      ],
      "source": [
        "num1 = {1, 2, 3}\n",
        "num2 = {3, 5, 6}\n",
        "\n",
        "print(num1.difference(num2)) # (num1-num2)\n",
        "print(num2.difference(num1)) # (num2-num1)"
      ]
    },
    {
      "cell_type": "markdown",
      "metadata": {
        "id": "YCJAqG97JF_g"
      },
      "source": [
        "###62. Convert a list with duplicate items to a set."
      ]
    },
    {
      "cell_type": "code",
      "execution_count": null,
      "metadata": {
        "colab": {
          "base_uri": "https://localhost:8080/"
        },
        "id": "orbhAqniJHns",
        "outputId": "39ed6204-5b46-45a1-ddc2-374de78faaa9"
      },
      "outputs": [
        {
          "name": "stdout",
          "output_type": "stream",
          "text": [
            "[1, 2, 3, 4, 5]\n"
          ]
        }
      ],
      "source": [
        "num = [1, 2, 2, 3, 4, 4, 5]\n",
        "\n",
        "num = list(set(num))\n",
        "print(num)"
      ]
    },
    {
      "cell_type": "markdown",
      "metadata": {
        "id": "LsJTXFNLJH5O"
      },
      "source": [
        "###63. Clear all elements from a set."
      ]
    },
    {
      "cell_type": "code",
      "execution_count": null,
      "metadata": {
        "colab": {
          "base_uri": "https://localhost:8080/"
        },
        "id": "mpTBAe85JKTB",
        "outputId": "f48071a9-e0ae-41ab-c1be-6ee94c9882a1"
      },
      "outputs": [
        {
          "name": "stdout",
          "output_type": "stream",
          "text": [
            "set()\n"
          ]
        }
      ],
      "source": [
        "fruits = {\"apple\", \"banana\", \"cherry\"}\n",
        "\n",
        "fruits.clear()\n",
        "print(fruits)"
      ]
    },
    {
      "cell_type": "markdown",
      "metadata": {
        "id": "d2ZoRUiNJK1r"
      },
      "source": [
        "###64. Create a set of five unique colors and print its length."
      ]
    },
    {
      "cell_type": "code",
      "execution_count": null,
      "metadata": {
        "colab": {
          "base_uri": "https://localhost:8080/"
        },
        "id": "e2JUu2WsJL3y",
        "outputId": "3d12520b-498b-46c3-c5f1-7b3671d0f2dd"
      },
      "outputs": [
        {
          "name": "stdout",
          "output_type": "stream",
          "text": [
            "5\n"
          ]
        }
      ],
      "source": [
        "colors = {\"red\", \"black\", \"blue\", \"yellow\", \"Green\"}\n",
        "print(len(colors))"
      ]
    },
    {
      "cell_type": "markdown",
      "metadata": {
        "id": "dVx64Qk-JWtm"
      },
      "source": [
        "# Dictionaries"
      ]
    },
    {
      "cell_type": "markdown",
      "metadata": {
        "id": "UZP9MTSLJZ3Y"
      },
      "source": [
        "###65. Create a dictionary with keys 'name', 'age', and 'city', and print it."
      ]
    },
    {
      "cell_type": "code",
      "execution_count": null,
      "metadata": {
        "colab": {
          "base_uri": "https://localhost:8080/"
        },
        "id": "rNAyeKBkJb-h",
        "outputId": "0ee195bd-12f7-4da4-dce9-df6d3c7d6967"
      },
      "outputs": [
        {
          "name": "stdout",
          "output_type": "stream",
          "text": [
            "{'name': 'Rahat', 'age': 24, 'city': 'Dhaka'}\n",
            "<class 'dict'>\n"
          ]
        }
      ],
      "source": [
        "dict1 = {\n",
        "    \"name\": \"Rahat\",\n",
        "    \"age\": 24,\n",
        "    \"city\": \"Dhaka\"\n",
        "}\n",
        "print(dict1)"
      ]
    },
    {
      "cell_type": "markdown",
      "metadata": {
        "id": "VkwUKCPaJcUu"
      },
      "source": [
        "###66. Access the value of the 'name' key in a dictionary."
      ]
    },
    {
      "cell_type": "code",
      "execution_count": null,
      "metadata": {
        "colab": {
          "base_uri": "https://localhost:8080/"
        },
        "id": "_hdogbyPJfoG",
        "outputId": "8a690778-3b83-4640-9010-8d453a5365ec"
      },
      "outputs": [
        {
          "name": "stdout",
          "output_type": "stream",
          "text": [
            "Rahat\n"
          ]
        }
      ],
      "source": [
        "dict1 = {\n",
        "    \"name\": \"Rahat\",\n",
        "    \"age\": 24,\n",
        "    \"city\": \"Dhaka\"\n",
        "}\n",
        "print(dict1[\"name\"])"
      ]
    },
    {
      "cell_type": "markdown",
      "metadata": {
        "id": "Ymts7e3aJgIL"
      },
      "source": [
        "###67. Add a new key-value pair to an existing dictionary."
      ]
    },
    {
      "cell_type": "code",
      "execution_count": null,
      "metadata": {
        "colab": {
          "base_uri": "https://localhost:8080/"
        },
        "id": "EWnDguzjJiNv",
        "outputId": "14c1b609-b642-41e3-9f60-ba2bed6f2712"
      },
      "outputs": [
        {
          "name": "stdout",
          "output_type": "stream",
          "text": [
            "{'name': 'Rahat', 'age': 24, 'city': 'Dhaka', 'ID': '2405206'}\n"
          ]
        }
      ],
      "source": [
        "dict1[\"ID\"] = \"2405206\"\n",
        "print(dict1)"
      ]
    },
    {
      "cell_type": "markdown",
      "metadata": {
        "id": "Y1kGIoBmJijX"
      },
      "source": [
        "###68. Update the value of an existing key in a dictionary."
      ]
    },
    {
      "cell_type": "code",
      "execution_count": null,
      "metadata": {
        "colab": {
          "base_uri": "https://localhost:8080/"
        },
        "id": "G-L3kH2ZJk1W",
        "outputId": "1fc4017a-6656-461f-8991-fab207cdd136"
      },
      "outputs": [
        {
          "name": "stdout",
          "output_type": "stream",
          "text": [
            "{'name': 'Rabbi', 'age': 24, 'city': 'Dhaka', 'ID': '2405206'}\n"
          ]
        }
      ],
      "source": [
        "dict1 = {\n",
        "    'name': 'Rahat',\n",
        "    'age': 24,\n",
        "    'city': 'Dhaka',\n",
        "    'ID': '2405206'\n",
        "}\n",
        "dict1.update(name = 'Rabbi')\n",
        "print(dict1)"
      ]
    },
    {
      "cell_type": "markdown",
      "metadata": {
        "id": "L8JW9WlrJlMp"
      },
      "source": [
        "###69. Remove a key-value pair from a dictionary."
      ]
    },
    {
      "cell_type": "code",
      "execution_count": null,
      "metadata": {
        "colab": {
          "base_uri": "https://localhost:8080/"
        },
        "id": "6jjg8srkJm_A",
        "outputId": "e0ae2d38-94a0-4148-d326-0a8f5c3f1a7a"
      },
      "outputs": [
        {
          "name": "stdout",
          "output_type": "stream",
          "text": [
            "{'name': 'Rahat', 'age': 24, 'city': 'Dhaka'}\n"
          ]
        }
      ],
      "source": [
        "dict1 = {\n",
        "    'name': 'Rahat',\n",
        "    'age': 24,\n",
        "    'city': 'Dhaka',\n",
        "    'ID': '2405206'\n",
        "}\n",
        "dict1.pop('ID')\n",
        "print(dict1)"
      ]
    },
    {
      "cell_type": "markdown",
      "metadata": {
        "id": "VpUUxe43Jn6C"
      },
      "source": [
        "###70. Check if a specific key exists in a dictionary."
      ]
    },
    {
      "cell_type": "code",
      "execution_count": null,
      "metadata": {
        "colab": {
          "base_uri": "https://localhost:8080/"
        },
        "id": "da8y4ctFJo8l",
        "outputId": "dfb46464-3538-4da3-c57e-960117b1e0f4"
      },
      "outputs": [
        {
          "name": "stdout",
          "output_type": "stream",
          "text": [
            "True\n",
            "False\n"
          ]
        }
      ],
      "source": [
        "dict1 = {\n",
        "    'name': 'Rahat',\n",
        "    'age': 24,\n",
        "    'city': 'Dhaka',\n",
        "    'ID': '2405206'\n",
        "}\n",
        "print('ID' in dict1)\n",
        "print('PhoneNo' in dict1)"
      ]
    },
    {
      "cell_type": "markdown",
      "metadata": {
        "id": "g_YmitLTJp9S"
      },
      "source": [
        "###71. Get all keys from a dictionary as a list."
      ]
    },
    {
      "cell_type": "code",
      "execution_count": null,
      "metadata": {
        "colab": {
          "base_uri": "https://localhost:8080/"
        },
        "id": "zNB0fLBAJq56",
        "outputId": "e4244dd5-eb3a-49af-d305-f784174bcdbc"
      },
      "outputs": [
        {
          "name": "stdout",
          "output_type": "stream",
          "text": [
            "['name', 'age', 'city', 'ID']\n"
          ]
        }
      ],
      "source": [
        "dict1 = {\n",
        "    'name': 'Rahat',\n",
        "    'age': 24,\n",
        "    'city': 'Dhaka',\n",
        "    'ID': '2405206'\n",
        "}\n",
        "keyList = list(dict1.keys())\n",
        "print(keyList)"
      ]
    },
    {
      "cell_type": "markdown",
      "metadata": {
        "id": "joowhpZ5JrXN"
      },
      "source": [
        "###72. Get all values from a dictionary as a list."
      ]
    },
    {
      "cell_type": "code",
      "execution_count": null,
      "metadata": {
        "colab": {
          "base_uri": "https://localhost:8080/"
        },
        "id": "P20yV5zVJtiz",
        "outputId": "66954369-d147-42f1-ab8b-649cccb7a596"
      },
      "outputs": [
        {
          "name": "stdout",
          "output_type": "stream",
          "text": [
            "['Rahat', 24, 'Dhaka', '2405206']\n"
          ]
        }
      ],
      "source": [
        "dict1 = {\n",
        "    'name': 'Rahat',\n",
        "    'age': 24,\n",
        "    'city': 'Dhaka',\n",
        "    'ID': '2405206'\n",
        "}\n",
        "keyList = list(dict1.values())\n",
        "print(keyList)"
      ]
    },
    {
      "cell_type": "markdown",
      "metadata": {
        "id": "c9sbto4fJu9C"
      },
      "source": [
        "###73. Merge two dictionaries into one."
      ]
    },
    {
      "cell_type": "code",
      "execution_count": null,
      "metadata": {
        "colab": {
          "base_uri": "https://localhost:8080/"
        },
        "id": "IwyVoYU4JwJS",
        "outputId": "16a90bf6-8dd8-422c-c27f-4b57966ead4a"
      },
      "outputs": [
        {
          "name": "stdout",
          "output_type": "stream",
          "text": [
            "{'name': 'Rahat', 'age': 24, 'city': 'Dhaka', 'ID': '2405206', 'a': 1, 'b': 2}\n"
          ]
        }
      ],
      "source": [
        "dict1 = {\n",
        "    'name': 'Rahat',\n",
        "    'age': 24,\n",
        "    'city': 'Dhaka',\n",
        "    'ID': '2405206'\n",
        "}\n",
        "dict2 = {\n",
        "    'a': 1,\n",
        "    'b':2\n",
        "}\n",
        "dict1.update(dict2)\n",
        "print(dict1)"
      ]
    },
    {
      "cell_type": "markdown",
      "metadata": {
        "id": "pGZJH10zJwpv"
      },
      "source": [
        "###74. Create a dictionary with default values for five keys."
      ]
    },
    {
      "cell_type": "code",
      "execution_count": null,
      "metadata": {
        "colab": {
          "base_uri": "https://localhost:8080/"
        },
        "id": "pladjpT3akUg",
        "outputId": "b5f5c67f-5d3f-4dd6-aa1c-94e379623479"
      },
      "outputs": [
        {
          "name": "stdout",
          "output_type": "stream",
          "text": [
            "{'a': 0, 'b': 0, 'c': 0, 'd': 0, 'e': 0}\n"
          ]
        }
      ],
      "source": [
        "keys = ['a', 'b', 'c', 'd', 'e']\n",
        "default_value = 0\n",
        "dict1 = {}\n",
        "\n",
        "for i in keys:\n",
        "    dict1[i] = default_value\n",
        "print(dict1)"
      ]
    },
    {
      "cell_type": "markdown",
      "metadata": {
        "id": "GnjusQP5J3jx"
      },
      "source": [
        "# Tuples"
      ]
    },
    {
      "cell_type": "markdown",
      "metadata": {
        "id": "IU455-o7J9aJ"
      },
      "source": [
        "###75. Create a tuple with five different fruits and print it."
      ]
    },
    {
      "cell_type": "code",
      "execution_count": null,
      "metadata": {
        "colab": {
          "base_uri": "https://localhost:8080/"
        },
        "id": "4jydEdDFJ_fL",
        "outputId": "85de8155-da3e-43f1-ea4e-d4ece2edbf4e"
      },
      "outputs": [
        {
          "name": "stdout",
          "output_type": "stream",
          "text": [
            "('apple', 'orange', 'banana', 'grape', 'watermelon')\n"
          ]
        }
      ],
      "source": [
        "fruits = ('apple', 'orange', 'banana', 'grape', 'watermelon')\n",
        "print(fruits)"
      ]
    },
    {
      "cell_type": "markdown",
      "metadata": {
        "id": "ChnazZ3_KAWq"
      },
      "source": [
        "###76. Access the third item in a tuple."
      ]
    },
    {
      "cell_type": "code",
      "execution_count": null,
      "metadata": {
        "colab": {
          "base_uri": "https://localhost:8080/"
        },
        "id": "iBk-ydPUKC1a",
        "outputId": "11800330-156b-43e6-b103-803b9e42b1fc"
      },
      "outputs": [
        {
          "name": "stdout",
          "output_type": "stream",
          "text": [
            "banana\n"
          ]
        }
      ],
      "source": [
        "fruits = ('apple', 'orange', 'banana', 'grape', 'watermelon')\n",
        "print(fruits[2])"
      ]
    },
    {
      "cell_type": "markdown",
      "metadata": {
        "id": "dFt9rYrQKDtu"
      },
      "source": [
        "###77. Attempt to modify the first item in a tuple and observe the error."
      ]
    },
    {
      "cell_type": "code",
      "execution_count": null,
      "metadata": {
        "colab": {
          "base_uri": "https://localhost:8080/",
          "height": 176
        },
        "id": "wXsTYZebKFqk",
        "outputId": "01fde417-5781-4e5e-df79-6a2f90257832"
      },
      "outputs": [
        {
          "ename": "TypeError",
          "evalue": "'tuple' object does not support item assignment",
          "output_type": "error",
          "traceback": [
            "\u001b[0;31m---------------------------------------------------------------------------\u001b[0m",
            "\u001b[0;31mTypeError\u001b[0m                                 Traceback (most recent call last)",
            "\u001b[0;32m<ipython-input-15-80c5dda12cf1>\u001b[0m in \u001b[0;36m<cell line: 2>\u001b[0;34m()\u001b[0m\n\u001b[1;32m      1\u001b[0m \u001b[0mfruits\u001b[0m \u001b[0;34m=\u001b[0m \u001b[0;34m(\u001b[0m\u001b[0;34m'apple'\u001b[0m\u001b[0;34m,\u001b[0m \u001b[0;34m'orange'\u001b[0m\u001b[0;34m,\u001b[0m \u001b[0;34m'banana'\u001b[0m\u001b[0;34m,\u001b[0m \u001b[0;34m'grape'\u001b[0m\u001b[0;34m,\u001b[0m \u001b[0;34m'watermelon'\u001b[0m\u001b[0;34m)\u001b[0m\u001b[0;34m\u001b[0m\u001b[0;34m\u001b[0m\u001b[0m\n\u001b[0;32m----> 2\u001b[0;31m \u001b[0mfruits\u001b[0m\u001b[0;34m[\u001b[0m\u001b[0;36m0\u001b[0m\u001b[0;34m]\u001b[0m \u001b[0;34m=\u001b[0m \u001b[0;34m'mango'\u001b[0m\u001b[0;34m\u001b[0m\u001b[0;34m\u001b[0m\u001b[0m\n\u001b[0m\u001b[1;32m      3\u001b[0m \u001b[0mfruits\u001b[0m\u001b[0;34m\u001b[0m\u001b[0;34m\u001b[0m\u001b[0m\n",
            "\u001b[0;31mTypeError\u001b[0m: 'tuple' object does not support item assignment"
          ]
        }
      ],
      "source": [
        "fruits = ('apple', 'orange', 'banana', 'grape', 'watermelon')\n",
        "fruits[0] = 'mango'\n",
        "fruits"
      ]
    },
    {
      "cell_type": "markdown",
      "metadata": {
        "id": "0IBbLV8OKGGd"
      },
      "source": [
        "###78. Convert a tuple to a list."
      ]
    },
    {
      "cell_type": "code",
      "execution_count": null,
      "metadata": {
        "colab": {
          "base_uri": "https://localhost:8080/"
        },
        "id": "YGtV33fZKIrj",
        "outputId": "ea998586-18b6-4a60-8b9d-e403ccf75a95"
      },
      "outputs": [
        {
          "name": "stdout",
          "output_type": "stream",
          "text": [
            "<class 'list'>\n"
          ]
        }
      ],
      "source": [
        "fruits_tuple = ('apple', 'orange', 'banana', 'grape', 'watermelon')\n",
        "fruits_list = list(fruits_tuple)\n",
        "print(type(fruits_list))"
      ]
    },
    {
      "cell_type": "markdown",
      "metadata": {
        "id": "4D9xmRiuKJBV"
      },
      "source": [
        "###79. Find the length of a tuple."
      ]
    },
    {
      "cell_type": "code",
      "execution_count": null,
      "metadata": {
        "colab": {
          "base_uri": "https://localhost:8080/"
        },
        "id": "chcoye97KKro",
        "outputId": "afb7a47c-e7fa-4604-d0cc-4627bda554d9"
      },
      "outputs": [
        {
          "name": "stdout",
          "output_type": "stream",
          "text": [
            "5\n"
          ]
        }
      ],
      "source": [
        "fruits = ('apple', 'orange', 'banana', 'grape', 'watermelon')\n",
        "print(len(fruits))"
      ]
    },
    {
      "cell_type": "markdown",
      "metadata": {
        "id": "98vFs5t-KLF7"
      },
      "source": [
        "###80. Concatenate two tuples into one."
      ]
    },
    {
      "cell_type": "code",
      "execution_count": null,
      "metadata": {
        "colab": {
          "base_uri": "https://localhost:8080/"
        },
        "id": "Vgr7CueWKMwH",
        "outputId": "2eb2b452-1ccf-43df-cf9b-e8399d4e696c"
      },
      "outputs": [
        {
          "name": "stdout",
          "output_type": "stream",
          "text": [
            "('apple', 'orange', 'banana', 'grape', 'watermelon', 1, 2, 3)\n"
          ]
        }
      ],
      "source": [
        "fruits = ('apple', 'orange', 'banana', 'grape', 'watermelon')\n",
        "num = (1,2,3)\n",
        "result = fruits + num\n",
        "print(result)"
      ]
    },
    {
      "cell_type": "markdown",
      "metadata": {
        "id": "nkYYKrwaKNI6"
      },
      "source": [
        "###81. Create a tuple with one item and print its type."
      ]
    },
    {
      "cell_type": "code",
      "execution_count": null,
      "metadata": {
        "colab": {
          "base_uri": "https://localhost:8080/"
        },
        "id": "2lQVaQOsKPbB",
        "outputId": "f2c5d9a4-bab2-4380-eca3-11150e94daa4"
      },
      "outputs": [
        {
          "name": "stdout",
          "output_type": "stream",
          "text": [
            "<class 'int'>\n"
          ]
        }
      ],
      "source": [
        "num = (1)\n",
        "print(type(num))"
      ]
    },
    {
      "cell_type": "markdown",
      "metadata": {
        "id": "Vcaj2k5XKPzt"
      },
      "source": [
        "###82. Unpack the values of a tuple into separate variables."
      ]
    },
    {
      "cell_type": "code",
      "execution_count": null,
      "metadata": {
        "colab": {
          "base_uri": "https://localhost:8080/"
        },
        "id": "mZ5hRlSbKSVX",
        "outputId": "0d14a947-9b75-472a-e9ac-89a681bbac36"
      },
      "outputs": [
        {
          "name": "stdout",
          "output_type": "stream",
          "text": [
            "1 2 3\n"
          ]
        }
      ],
      "source": [
        "num = (1, 2, 3)\n",
        "(one, two, three) = num\n",
        "\n",
        "print(one, two, three)"
      ]
    },
    {
      "cell_type": "markdown",
      "metadata": {
        "id": "JSDpitdKKS23"
      },
      "source": [
        "###83. Use tuple indexing to get the last item in a tuple."
      ]
    },
    {
      "cell_type": "code",
      "execution_count": null,
      "metadata": {
        "colab": {
          "base_uri": "https://localhost:8080/"
        },
        "id": "WMr69X9JKU7q",
        "outputId": "45d7b08b-6036-42c2-ab51-c90f245d9603"
      },
      "outputs": [
        {
          "name": "stdout",
          "output_type": "stream",
          "text": [
            "watermelon\n"
          ]
        }
      ],
      "source": [
        "fruits = ('apple', 'orange', 'banana', 'grape', 'watermelon')\n",
        "print(fruits[-1])"
      ]
    },
    {
      "cell_type": "markdown",
      "metadata": {
        "id": "MrWCe9pYKVOr"
      },
      "source": [
        "###84. Check if a specific item exists in a tuple."
      ]
    },
    {
      "cell_type": "code",
      "execution_count": null,
      "metadata": {
        "colab": {
          "base_uri": "https://localhost:8080/"
        },
        "id": "BjVBdrd0KWvl",
        "outputId": "a256bfcf-1598-4650-b0d3-817a99fc9a45"
      },
      "outputs": [
        {
          "name": "stdout",
          "output_type": "stream",
          "text": [
            "Yes, 'apple' exists in the fruits tuple\n"
          ]
        }
      ],
      "source": [
        "fruits = ('apple', 'orange', 'banana', 'grape', 'watermelon')\n",
        "if 'apple' in fruits:\n",
        "    print(\"Yes, 'apple' exists in the fruits tuple\")"
      ]
    },
    {
      "cell_type": "markdown",
      "metadata": {
        "id": "w4bKcKlLKX0F"
      },
      "source": [
        "# Type Casting"
      ]
    },
    {
      "cell_type": "markdown",
      "metadata": {
        "id": "XGNH7Xp9KdGO"
      },
      "source": [
        "###85. Convert an integer to a float and print both values."
      ]
    },
    {
      "cell_type": "code",
      "execution_count": null,
      "metadata": {
        "colab": {
          "base_uri": "https://localhost:8080/"
        },
        "id": "2-aW4tqtKfpu",
        "outputId": "fc127fd4-3ea8-480c-baea-2ee38ab7292f"
      },
      "outputs": [
        {
          "name": "stdout",
          "output_type": "stream",
          "text": [
            "1\n",
            "1.0\n"
          ]
        }
      ],
      "source": [
        "int_val = 1\n",
        "print(int_val)\n",
        "float_val = float(int_val)\n",
        "print(float_val)"
      ]
    },
    {
      "cell_type": "markdown",
      "metadata": {
        "id": "a7K3_nwOKgCJ"
      },
      "source": [
        "###86. Convert a float to a string and print both values."
      ]
    },
    {
      "cell_type": "code",
      "execution_count": null,
      "metadata": {
        "colab": {
          "base_uri": "https://localhost:8080/"
        },
        "id": "mSNQjhGqKh-t",
        "outputId": "e4853cff-2108-4511-b866-06fe738f6eec"
      },
      "outputs": [
        {
          "name": "stdout",
          "output_type": "stream",
          "text": [
            "float type:  1.15\n",
            "string type:  1.15\n"
          ]
        }
      ],
      "source": [
        "float_val = 1.15\n",
        "print(\"float type: \", float_val)\n",
        "str_val = str(float_val)\n",
        "print(\"string type: \", str_val)"
      ]
    },
    {
      "cell_type": "markdown",
      "metadata": {
        "id": "7HoKTzNwKia7"
      },
      "source": [
        "###87. Convert a string representing a number to an integer."
      ]
    },
    {
      "cell_type": "code",
      "execution_count": null,
      "metadata": {
        "colab": {
          "base_uri": "https://localhost:8080/"
        },
        "id": "O1CLJMU6KkQe",
        "outputId": "a5871c80-35e9-4a0a-a770-171daf3f0f46"
      },
      "outputs": [
        {
          "name": "stdout",
          "output_type": "stream",
          "text": [
            "str type:  15\n",
            "int type:  15\n"
          ]
        }
      ],
      "source": [
        "num_str = '15'\n",
        "print(\"str type: \", num_str)\n",
        "num_int = int(num_str)\n",
        "print(\"int type: \", num_int)"
      ]
    },
    {
      "cell_type": "markdown",
      "metadata": {
        "id": "lpmStCPLKku1"
      },
      "source": [
        "###88. Convert a list to a tuple and print both types."
      ]
    },
    {
      "cell_type": "code",
      "execution_count": null,
      "metadata": {
        "colab": {
          "base_uri": "https://localhost:8080/"
        },
        "id": "QpTVcon1Kmih",
        "outputId": "264fe5eb-5008-4f49-8d45-057058661126"
      },
      "outputs": [
        {
          "name": "stdout",
          "output_type": "stream",
          "text": [
            "<class 'list'>\n",
            "<class 'tuple'>\n"
          ]
        }
      ],
      "source": [
        "fruits_list = ['apple', 'orange', 'banana', 'grape', 'watermelon']\n",
        "print(type(fruits_list))\n",
        "\n",
        "fruits_tuple = tuple(fruits_list)\n",
        "print(type(fruits_tuple))"
      ]
    },
    {
      "cell_type": "markdown",
      "metadata": {
        "id": "_cFmQEMMKnPS"
      },
      "source": [
        "###89. Convert a tuple to a list and print both types."
      ]
    },
    {
      "cell_type": "code",
      "execution_count": null,
      "metadata": {
        "colab": {
          "base_uri": "https://localhost:8080/"
        },
        "id": "-PI5PJM1KpR1",
        "outputId": "1b0e276e-83a4-4bd0-8c2c-0493193e0764"
      },
      "outputs": [
        {
          "name": "stdout",
          "output_type": "stream",
          "text": [
            "<class 'tuple'>\n",
            "<class 'list'>\n"
          ]
        }
      ],
      "source": [
        "fruits_tuple = ('apple', 'orange', 'banana', 'grape', 'watermelon')\n",
        "print(type(fruits_tuple))\n",
        "\n",
        "fruits_list = list(fruits_tuple)\n",
        "print(type(fruits_list))"
      ]
    },
    {
      "cell_type": "markdown",
      "metadata": {
        "id": "I6Xpcw4gKpqQ"
      },
      "source": [
        "###90. Convert a dictionary’s keys to a list."
      ]
    },
    {
      "cell_type": "code",
      "execution_count": null,
      "metadata": {
        "colab": {
          "base_uri": "https://localhost:8080/"
        },
        "id": "px22kozmKrKY",
        "outputId": "0754c9bb-fdd5-46d2-a52c-c35c6141a339"
      },
      "outputs": [
        {
          "name": "stdout",
          "output_type": "stream",
          "text": [
            "['name', 'age', 'city', 'ID']\n"
          ]
        }
      ],
      "source": [
        "dict1 = {\n",
        "    'name': 'Rahat',\n",
        "    'age': 24,\n",
        "    'city': 'Dhaka',\n",
        "    'ID': '2405206'\n",
        "}\n",
        "key_list = list(dict1.keys())\n",
        "print(key_list)"
      ]
    },
    {
      "cell_type": "markdown",
      "metadata": {
        "id": "NJ8rIukiKrhI"
      },
      "source": [
        "###91. Convert a dictionary’s values to a list."
      ]
    },
    {
      "cell_type": "code",
      "execution_count": null,
      "metadata": {
        "colab": {
          "base_uri": "https://localhost:8080/"
        },
        "id": "qPCZ0QypKtN7",
        "outputId": "64cb204e-773e-4249-c6c7-142594e002f5"
      },
      "outputs": [
        {
          "name": "stdout",
          "output_type": "stream",
          "text": [
            "['Rahat', 24, 'Dhaka', '2405206']\n"
          ]
        }
      ],
      "source": [
        "dict1 = {\n",
        "    'name': 'Rahat',\n",
        "    'age': 24,\n",
        "    'city': 'Dhaka',\n",
        "    'ID': '2405206'\n",
        "}\n",
        "value_list = list(dict1.values())\n",
        "print(value_list)"
      ]
    },
    {
      "cell_type": "markdown",
      "metadata": {
        "id": "X2Sy3MK9KufN"
      },
      "source": [
        "###92. Create a set from a string and print the result."
      ]
    },
    {
      "cell_type": "code",
      "execution_count": null,
      "metadata": {
        "colab": {
          "base_uri": "https://localhost:8080/"
        },
        "id": "az591kM_Kvri",
        "outputId": "1f01e825-244a-4fcf-94af-a8946c87ac05"
      },
      "outputs": [
        {
          "name": "stdout",
          "output_type": "stream",
          "text": [
            "<class 'str'>\n",
            "{'d', '!', 'r', 'e', 'w', 'l', 'h', ' ', 'o'}\n",
            "<class 'set'>\n"
          ]
        }
      ],
      "source": [
        "str1 = \"hello world!\"\n",
        "print(type(str1))\n",
        "my_set = set(str1)\n",
        "print(my_set)\n",
        "print(type(my_set))"
      ]
    },
    {
      "cell_type": "markdown",
      "metadata": {
        "id": "rWBhsYkwKwDM"
      },
      "source": [
        "###93. Use 'int()' to convert a float with decimal places and note the result."
      ]
    },
    {
      "cell_type": "code",
      "execution_count": null,
      "metadata": {
        "colab": {
          "base_uri": "https://localhost:8080/"
        },
        "id": "04-yyHGhKzQl",
        "outputId": "1576f443-2ec5-4d51-dac2-7c6d59c238d0"
      },
      "outputs": [
        {
          "name": "stdout",
          "output_type": "stream",
          "text": [
            "3\n"
          ]
        }
      ],
      "source": [
        "float_val = 3.1416\n",
        "int_val = int(float_val)\n",
        "print(int_val)"
      ]
    },
    {
      "cell_type": "markdown",
      "metadata": {
        "id": "KiF6t6O8Kzya"
      },
      "source": [
        "###94. Convert a number to a string, concatenate it with another string, and print the result."
      ]
    },
    {
      "cell_type": "code",
      "execution_count": null,
      "metadata": {
        "colab": {
          "base_uri": "https://localhost:8080/"
        },
        "id": "RbUm6gPNK14V",
        "outputId": "d189a2c4-b04d-47df-ff7c-6ca6a136b083"
      },
      "outputs": [
        {
          "name": "stdout",
          "output_type": "stream",
          "text": [
            "hello2\n"
          ]
        },
        {
          "data": {
            "text/plain": [
              "str"
            ]
          },
          "execution_count": 79,
          "metadata": {},
          "output_type": "execute_result"
        }
      ],
      "source": [
        "num = 2\n",
        "str_num = str(num)\n",
        "str1 = \"hello\"\n",
        "\n",
        "result = str1 + str_num\n",
        "print(result)"
      ]
    },
    {
      "cell_type": "markdown",
      "metadata": {
        "id": "-TlGM8AaK3NO"
      },
      "source": [
        "# Operators"
      ]
    },
    {
      "cell_type": "markdown",
      "metadata": {
        "id": "ypWpBx9_K6Cv"
      },
      "source": [
        "###95. Use the addition operator to add two numbers."
      ]
    },
    {
      "cell_type": "code",
      "execution_count": null,
      "metadata": {
        "colab": {
          "base_uri": "https://localhost:8080/"
        },
        "id": "gTRo9NkHK8Bf",
        "outputId": "09a6c079-b7d6-47ba-f49a-b35acbf1ac17"
      },
      "outputs": [
        {
          "name": "stdout",
          "output_type": "stream",
          "text": [
            "15\n"
          ]
        }
      ],
      "source": [
        "num1 = 5\n",
        "num2 = 10\n",
        "print(num1+num2)"
      ]
    },
    {
      "cell_type": "markdown",
      "metadata": {
        "id": "t48rzVJFK8Sd"
      },
      "source": [
        "###96. Use the subtraction operator to subtract one number from another."
      ]
    },
    {
      "cell_type": "code",
      "execution_count": null,
      "metadata": {
        "colab": {
          "base_uri": "https://localhost:8080/"
        },
        "id": "RT2OWVKbK-GM",
        "outputId": "129b445a-6f38-44dd-cb83-1bd6badd5be3"
      },
      "outputs": [
        {
          "name": "stdout",
          "output_type": "stream",
          "text": [
            "-5\n"
          ]
        }
      ],
      "source": [
        "num1 = 5\n",
        "num2 = 10\n",
        "print(num1-num2)"
      ]
    },
    {
      "cell_type": "markdown",
      "metadata": {
        "id": "3st9Y7X_K-cf"
      },
      "source": [
        "###97. Use the multiplication operator to multiply two numbers."
      ]
    },
    {
      "cell_type": "code",
      "execution_count": null,
      "metadata": {
        "colab": {
          "base_uri": "https://localhost:8080/"
        },
        "id": "MzHo0FgSLAX-",
        "outputId": "4d729fda-b0f2-455f-b875-6e71f007a8da"
      },
      "outputs": [
        {
          "name": "stdout",
          "output_type": "stream",
          "text": [
            "50\n"
          ]
        }
      ],
      "source": [
        "num1 = 5\n",
        "num2 = 10\n",
        "print(num1*num2)"
      ]
    },
    {
      "cell_type": "markdown",
      "metadata": {
        "id": "Eo79yZTkLCFB"
      },
      "source": [
        "###98. Divide two numbers using the division operator and print the result."
      ]
    },
    {
      "cell_type": "code",
      "execution_count": null,
      "metadata": {
        "colab": {
          "base_uri": "https://localhost:8080/"
        },
        "id": "wTfW_rp2LDRj",
        "outputId": "e1de8aee-4415-4776-e975-c4452c32fc63"
      },
      "outputs": [
        {
          "name": "stdout",
          "output_type": "stream",
          "text": [
            "8.0\n"
          ]
        }
      ],
      "source": [
        "num1 = 16\n",
        "num2 = 2\n",
        "print(num1/num2)"
      ]
    },
    {
      "cell_type": "markdown",
      "metadata": {
        "id": "YVWwFcZBLDo_"
      },
      "source": [
        "###99. Use the modulus operator to find the remainder of a division."
      ]
    },
    {
      "cell_type": "code",
      "execution_count": null,
      "metadata": {
        "colab": {
          "base_uri": "https://localhost:8080/"
        },
        "id": "6xZdy2GJLGV_",
        "outputId": "396eec7b-c3fd-48be-817e-5010829035a8"
      },
      "outputs": [
        {
          "name": "stdout",
          "output_type": "stream",
          "text": [
            "1\n"
          ]
        }
      ],
      "source": [
        "num1 = 16\n",
        "num2 = 3\n",
        "print(num1%num2)"
      ]
    },
    {
      "cell_type": "markdown",
      "metadata": {
        "id": "Ob5IJghsLGst"
      },
      "source": [
        "###100. Calculate the floor division of two numbers."
      ]
    },
    {
      "cell_type": "code",
      "execution_count": null,
      "metadata": {
        "colab": {
          "base_uri": "https://localhost:8080/"
        },
        "id": "vbkNm3QZLJT2",
        "outputId": "3a28258b-0f54-4c79-f096-dcffc43ae074"
      },
      "outputs": [
        {
          "name": "stdout",
          "output_type": "stream",
          "text": [
            "input num1: 16\n",
            "input num2: 6\n",
            "floor division of num1 and num2:  2\n"
          ]
        }
      ],
      "source": [
        "num1 = int(input(\"input num1: \"))\n",
        "num2 = int(input(\"input num2: \"))\n",
        "\n",
        "if num2 == 0:\n",
        "    raise ZeroDivisionError(\"Division by zero\")\n",
        "else:\n",
        "    print(\"floor division of num1 and num2: \",num1 // num2)"
      ]
    }
  ],
  "metadata": {
    "colab": {
      "collapsed_sections": [
        "4hScWPJs_TxX",
        "6TJistrg_o5_",
        "HIGQG35VABvf",
        "1as_zcQTAQGv",
        "rY5Jr_8M2hV0",
        "tO9miGhP4SHg",
        "mzj7OyHU6g9F",
        "rvXEeVn19YfH"
      ],
      "provenance": []
    },
    "kernelspec": {
      "display_name": "Python 3",
      "name": "python3"
    },
    "language_info": {
      "codemirror_mode": {
        "name": "ipython",
        "version": 3
      },
      "file_extension": ".py",
      "mimetype": "text/x-python",
      "name": "python",
      "nbconvert_exporter": "python",
      "pygments_lexer": "ipython3",
      "version": "3.13.0"
    }
  },
  "nbformat": 4,
  "nbformat_minor": 0
}

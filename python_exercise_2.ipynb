{
  "cells": [
    {
      "cell_type": "markdown",
      "metadata": {
        "id": "O79rOmNgLo0H"
      },
      "source": [
        "#### 1. Write a program to check if a number is positive."
      ]
    },
    {
      "cell_type": "code",
      "execution_count": 2,
      "metadata": {
        "colab": {
          "base_uri": "https://localhost:8080/"
        },
        "id": "o_0oPfhuLrq_",
        "outputId": "03999e1d-1c47-4988-be00-7f97ddd322f1"
      },
      "outputs": [
        {
          "name": "stdout",
          "output_type": "stream",
          "text": [
            "Not positive number\n"
          ]
        }
      ],
      "source": [
        "num = int(input(\"Enter an integer: \"))\n",
        "\n",
        "if(num == 0):\n",
        "    print(\"Zero\")\n",
        "elif(num > 0):\n",
        "    print(\"Positive number\")\n",
        "else:\n",
        "    print(\"Not positive number\")"
      ]
    },
    {
      "cell_type": "markdown",
      "metadata": {
        "id": "csCv3shpLsEm"
      },
      "source": [
        "#### 2. Write a program to check if a number is negative."
      ]
    },
    {
      "cell_type": "code",
      "execution_count": 3,
      "metadata": {
        "colab": {
          "base_uri": "https://localhost:8080/"
        },
        "id": "0rPVXiIxLxJ2",
        "outputId": "5bcc0e12-0e64-49f3-a07e-1d56939f8707"
      },
      "outputs": [
        {
          "name": "stdout",
          "output_type": "stream",
          "text": [
            "Zero\n"
          ]
        }
      ],
      "source": [
        "num = int(input(\"Enter an integer: \"))\n",
        "\n",
        "if(num == 0):\n",
        "    print(\"Zero\")\n",
        "elif(num < 0):\n",
        "    print(\"Negative number\")\n",
        "else:\n",
        "    print(\"Not negative number\")"
      ]
    },
    {
      "cell_type": "markdown",
      "metadata": {
        "id": "V3OZbiquLub9"
      },
      "source": [
        "#### 3. Check if a number is divisible by 5."
      ]
    },
    {
      "cell_type": "code",
      "execution_count": 4,
      "metadata": {
        "colab": {
          "base_uri": "https://localhost:8080/"
        },
        "id": "dH2NVd49Lx-l",
        "outputId": "da88d323-6d35-4178-e38a-bcd96b6012dc"
      },
      "outputs": [
        {
          "name": "stdout",
          "output_type": "stream",
          "text": [
            "25 is divisible by 5\n"
          ]
        }
      ],
      "source": [
        "num = int(input(\"Enter an integer: \"))\n",
        "if num % 5 == 0:\n",
        "    print(f\"{num} is divisible by 5\")\n",
        "else:\n",
        "    print(f\"{num} is not divisible by 5\")"
      ]
    },
    {
      "cell_type": "markdown",
      "metadata": {
        "id": "cUtfmyEvLwXV"
      },
      "source": [
        "#### 4. Write a program to check if a string starts with the letter \"A\"."
      ]
    },
    {
      "cell_type": "code",
      "execution_count": null,
      "metadata": {
        "colab": {
          "base_uri": "https://localhost:8080/"
        },
        "id": "dEH1FSIzL0tW",
        "outputId": "fba8d99d-9ee1-4dc6-d3ad-87772f9095d5"
      },
      "outputs": [
        {
          "name": "stdout",
          "output_type": "stream",
          "text": [
            "Enter a string: aaa\n",
            "Your string don't starts with the letter 'A'\n"
          ]
        }
      ],
      "source": [
        "str1 = input(\"Enter a string: \")\n",
        "\n",
        "for i in str1:\n",
        "    if i == \"A\":\n",
        "        print(\"Your string starts with the letter 'A'\")\n",
        "        break\n",
        "    else:\n",
        "        print(\"Your string don't starts with the letter 'A'\")\n",
        "        break"
      ]
    },
    {
      "cell_type": "markdown",
      "metadata": {
        "id": "9PyQcb7LL1AN"
      },
      "source": [
        "#### 5. Check if a given number is zero."
      ]
    },
    {
      "cell_type": "code",
      "execution_count": null,
      "metadata": {
        "colab": {
          "base_uri": "https://localhost:8080/"
        },
        "id": "z4WFvFJBuZeo",
        "outputId": "69fd93ad-6c14-463c-9d18-6f80d6b18ab1"
      },
      "outputs": [
        {
          "name": "stdout",
          "output_type": "stream",
          "text": [
            "Enter an integer: 0\n",
            "Zero\n"
          ]
        }
      ],
      "source": [
        "num = int(input(\"Enter an integer: \"))\n",
        "if num == 0:\n",
        "    print(\"Zero\")\n",
        "else:\n",
        "    print(\"Not Zero\")"
      ]
    },
    {
      "cell_type": "markdown",
      "metadata": {
        "id": "71n9Lv1eL3GG"
      },
      "source": [
        "#### 6. Write a program to check if a string is uppercase."
      ]
    },
    {
      "cell_type": "code",
      "execution_count": null,
      "metadata": {
        "colab": {
          "base_uri": "https://localhost:8080/"
        },
        "id": "c4BCVxEnuk6A",
        "outputId": "1394d098-f0ec-4382-d10f-d0b5ef838b92"
      },
      "outputs": [
        {
          "name": "stdout",
          "output_type": "stream",
          "text": [
            "Enter a string: 868&*uY\n",
            "The string is not uppercase\n"
          ]
        }
      ],
      "source": [
        "str1 = input(\"Enter a string: \")\n",
        "\n",
        "if str1.isupper():\n",
        "    print(\"The string is uppercase\")\n",
        "else:\n",
        "    print(\"The string is not uppercase\")"
      ]
    },
    {
      "cell_type": "markdown",
      "metadata": {
        "id": "nGwNvC98L5Lt"
      },
      "source": [
        "#### 7. Check if a string contains only alphabets."
      ]
    },
    {
      "cell_type": "code",
      "execution_count": null,
      "metadata": {
        "colab": {
          "base_uri": "https://localhost:8080/"
        },
        "id": "Ra9puxotwDoS",
        "outputId": "5889b975-27bb-485c-ae2f-5f6786389909"
      },
      "outputs": [
        {
          "name": "stdout",
          "output_type": "stream",
          "text": [
            "Enter a string: Heu\n",
            "The string contains only alphabets\n"
          ]
        }
      ],
      "source": [
        "str1 = input(\"Enter a string: \")\n",
        "\n",
        "if str1.isalpha():\n",
        "    print(\"The string contains only alphabets\")\n",
        "else:\n",
        "    print(\"The string does not contain only alphabets\")"
      ]
    },
    {
      "cell_type": "markdown",
      "metadata": {
        "id": "1BdcHi7qL6du"
      },
      "source": [
        "#### 8. Determine if a number is between 1 and 100."
      ]
    },
    {
      "cell_type": "code",
      "execution_count": null,
      "metadata": {
        "colab": {
          "base_uri": "https://localhost:8080/"
        },
        "id": "tj4ItcYqwdaD",
        "outputId": "9eb60e84-4940-45d0-edc7-5d017b1ac91f"
      },
      "outputs": [
        {
          "name": "stdout",
          "output_type": "stream",
          "text": [
            "Enter a number: 845\n",
            "The number is not between 1 to 100\n"
          ]
        }
      ],
      "source": [
        "num = int(input(\"Enter a number: \"))\n",
        "\n",
        "if num >=1 and num <= 100:\n",
        "    print(\"The number is between 1 to 100\")\n",
        "else:\n",
        "    print(\"The number is not between 1 to 100\")"
      ]
    },
    {
      "cell_type": "markdown",
      "metadata": {
        "id": "O0iDnvjiL8I9"
      },
      "source": [
        "#### 9. Check if the first character of a string is a vowel."
      ]
    },
    {
      "cell_type": "code",
      "execution_count": null,
      "metadata": {
        "colab": {
          "base_uri": "https://localhost:8080/"
        },
        "id": "9ViHDreMxnwr",
        "outputId": "5e4f9ff1-ac8a-4fa2-d36b-ae6b591094c8"
      },
      "outputs": [
        {
          "name": "stdout",
          "output_type": "stream",
          "text": [
            "Enter a string: Uplyt\n",
            "The first character is a vowel\n"
          ]
        }
      ],
      "source": [
        "str1 = input(\"Enter a string: \")\n",
        "\n",
        "first_char = str1[0]\n",
        "if first_char in 'aeiouAEIOU':\n",
        "    print(\"The first character is a vowel\")\n",
        "else:\n",
        "    print(\"The first character is not a vowel\")"
      ]
    },
    {
      "cell_type": "markdown",
      "metadata": {
        "id": "LtEAYTlsL-VO"
      },
      "source": [
        "#### 10. Verify if a given string ends with a question mark."
      ]
    },
    {
      "cell_type": "code",
      "execution_count": null,
      "metadata": {
        "colab": {
          "base_uri": "https://localhost:8080/"
        },
        "id": "aDjWBHEc5xsl",
        "outputId": "618931bc-93aa-4e08-c387-d9d3f7089039"
      },
      "outputs": [
        {
          "name": "stdout",
          "output_type": "stream",
          "text": [
            "Enter a string: hello?\n",
            "the string ends with a question mark\n"
          ]
        }
      ],
      "source": [
        "str1 = input(\"Enter a string: \")\n",
        "if str1.endswith('?'):\n",
        "    print(\"the string ends with a question mark\")\n",
        "else:\n",
        "    print(\"the string does not ends with a question mark\")"
      ]
    },
    {
      "cell_type": "markdown",
      "metadata": {
        "id": "sss1euMXL_ne"
      },
      "source": [
        "#### 11. Write a program to check if a number is even or odd."
      ]
    },
    {
      "cell_type": "code",
      "execution_count": null,
      "metadata": {
        "colab": {
          "base_uri": "https://localhost:8080/"
        },
        "id": "wTBttH2-6WaA",
        "outputId": "86865251-b7c2-4d36-e278-a40f0d3493bf"
      },
      "outputs": [
        {
          "name": "stdout",
          "output_type": "stream",
          "text": [
            "Enter a number: 89\n",
            "89 is Odd number\n"
          ]
        }
      ],
      "source": [
        "num = int(input(\"Enter a number: \"))\n",
        "if num % 2 == 0:\n",
        "    print(f\"{num} is Even number\")\n",
        "else:\n",
        "    print(f\"{num} is Odd number\")"
      ]
    },
    {
      "cell_type": "markdown",
      "metadata": {
        "id": "HSNIvPGMMwte"
      },
      "source": [
        "#### 12. Check if a person is eligible to vote (18 or older)."
      ]
    },
    {
      "cell_type": "code",
      "execution_count": null,
      "metadata": {
        "colab": {
          "base_uri": "https://localhost:8080/"
        },
        "id": "NOKZm5SB6r9P",
        "outputId": "be907a5c-3606-4857-87ab-db90c1019e25"
      },
      "outputs": [
        {
          "name": "stdout",
          "output_type": "stream",
          "text": [
            "Enter age: 45\n",
            "eligible to vote\n"
          ]
        }
      ],
      "source": [
        "age = int(input(\"Enter age: \"))\n",
        "if age >= 18:\n",
        "    print(\"eligible to vote\")\n",
        "else:\n",
        "    print(\"not eligible to vote\")"
      ]
    },
    {
      "cell_type": "markdown",
      "metadata": {
        "id": "7ISwEm6xMyQl"
      },
      "source": [
        "#### 13. Determine if a word has more than five characters."
      ]
    },
    {
      "cell_type": "code",
      "execution_count": null,
      "metadata": {
        "colab": {
          "base_uri": "https://localhost:8080/"
        },
        "id": "1r3dRY6e6-IQ",
        "outputId": "3d59ed7b-24ce-41ca-f0a0-0c8ea6671325"
      },
      "outputs": [
        {
          "name": "stdout",
          "output_type": "stream",
          "text": [
            "Enter a word: hello\n",
            "'hello' has five or fewer characters\n"
          ]
        }
      ],
      "source": [
        "word = input(\"Enter a word: \")\n",
        "if len(word) > 5:\n",
        "    print(f\"'{word}' has more than five characters\")\n",
        "else:\n",
        "    print(f\"'{word}' has five or fewer characters\")"
      ]
    },
    {
      "cell_type": "markdown",
      "metadata": {
        "id": "n0Q6gRWIMz3d"
      },
      "source": [
        "#### 14. Write a program to check if a number is positive or negative."
      ]
    },
    {
      "cell_type": "code",
      "execution_count": null,
      "metadata": {
        "colab": {
          "base_uri": "https://localhost:8080/"
        },
        "id": "9astvsMD78Jr",
        "outputId": "977e3e36-8b7d-46e5-8998-d2cb366bd5c8"
      },
      "outputs": [
        {
          "name": "stdout",
          "output_type": "stream",
          "text": [
            "Enter an integer: -96\n",
            "Negative number\n"
          ]
        }
      ],
      "source": [
        "num = int(input(\"Enter an integer: \"))\n",
        "\n",
        "if(num == 0):\n",
        "    print(\"Zero\")\n",
        "elif(num < 0):\n",
        "    print(\"Negative number\")\n",
        "else:\n",
        "    print(\"Positive number\")"
      ]
    },
    {
      "cell_type": "markdown",
      "metadata": {
        "id": "ufCgGS6CM1l9"
      },
      "source": [
        "#### 15. Determine if a string has more than 10 characters."
      ]
    },
    {
      "cell_type": "code",
      "execution_count": null,
      "metadata": {
        "colab": {
          "base_uri": "https://localhost:8080/"
        },
        "id": "kbtsWuOS8G1e",
        "outputId": "d224499d-5070-4b8f-daed-74859e40d8d6"
      },
      "outputs": [
        {
          "name": "stdout",
          "output_type": "stream",
          "text": [
            "Enter a string: HELLO WORLD HI\n",
            "'HELLO WORLD HI' has more than 10 characters\n"
          ]
        }
      ],
      "source": [
        "string = input(\"Enter a string: \")\n",
        "if len(string) > 10:\n",
        "    print(f\"'{string}' has more than 10 characters\")\n",
        "elif len(string) == 10:\n",
        "    print(f\"'{string}' has 10 characters\")\n",
        "else:\n",
        "    print(f\"'{string}' has less than 10 characters\")"
      ]
    },
    {
      "cell_type": "markdown",
      "metadata": {
        "id": "GDEB2lJMM3UN"
      },
      "source": [
        "#### 16. Write a program to check if a number is divisible by 2 or not."
      ]
    },
    {
      "cell_type": "code",
      "execution_count": null,
      "metadata": {
        "colab": {
          "base_uri": "https://localhost:8080/"
        },
        "id": "wWqwwCwr80rb",
        "outputId": "036368a0-b34b-4f06-9122-38f971b28321"
      },
      "outputs": [
        {
          "name": "stdout",
          "output_type": "stream",
          "text": [
            "Enter an integer: 11\n",
            "11 is not divisible by 2\n"
          ]
        }
      ],
      "source": [
        "num = int(input(\"Enter an integer: \"))\n",
        "if num % 2 == 0:\n",
        "    print(f\"{num} is divisible by 2\")\n",
        "else:\n",
        "    print(f\"{num} is not divisible by 2\")"
      ]
    },
    {
      "cell_type": "markdown",
      "metadata": {
        "id": "exkbCJtrM5Wl"
      },
      "source": [
        "#### 17. Check if a given string is in uppercase, else convert it to uppercase."
      ]
    },
    {
      "cell_type": "code",
      "execution_count": null,
      "metadata": {
        "colab": {
          "base_uri": "https://localhost:8080/"
        },
        "id": "FeFLN1KUA1Ig",
        "outputId": "9ebb0c6e-263c-4b66-a67f-dae883dab935"
      },
      "outputs": [
        {
          "name": "stdout",
          "output_type": "stream",
          "text": [
            "Enter a string: hello\n",
            "The string was converted to uppercase: HELLO\n"
          ]
        }
      ],
      "source": [
        "string = input(\"Enter a string: \")\n",
        "\n",
        "if string.isupper():\n",
        "    print(\"The string is already in uppercase:\", string)\n",
        "else:\n",
        "    uppercase_string = string.upper()\n",
        "    print(\"The string was converted to uppercase:\", uppercase_string)\n"
      ]
    },
    {
      "cell_type": "markdown",
      "metadata": {
        "id": "ybA_7drxM7gt"
      },
      "source": [
        "#### 18. Check if a number is between 50 and 100. If it is, print “In Range”; otherwise, print “Out of Range.”"
      ]
    },
    {
      "cell_type": "code",
      "execution_count": null,
      "metadata": {
        "colab": {
          "base_uri": "https://localhost:8080/"
        },
        "id": "5BEQ7HDbD4Vg",
        "outputId": "4560413f-cf3f-4f66-a904-78c848f80e77"
      },
      "outputs": [
        {
          "name": "stdout",
          "output_type": "stream",
          "text": [
            "Enter a number: 150\n",
            "Out of Range\n"
          ]
        }
      ],
      "source": [
        "num = int(input(\"Enter a number: \"))\n",
        "if num >= 50 and num <= 100:\n",
        "    print(\"In Range\")\n",
        "else:\n",
        "    print(\"Out of Range\")"
      ]
    },
    {
      "cell_type": "markdown",
      "metadata": {
        "id": "6Cq86qujM9ww"
      },
      "source": [
        "#### 19. Write a program to determine if a string is empty. If it’s not, print the string."
      ]
    },
    {
      "cell_type": "code",
      "execution_count": null,
      "metadata": {
        "colab": {
          "base_uri": "https://localhost:8080/"
        },
        "id": "-Av7KoLdEwvN",
        "outputId": "b80a1fef-a1e7-4b0d-8c0d-fc3648924471"
      },
      "outputs": [
        {
          "name": "stdout",
          "output_type": "stream",
          "text": [
            "Enter a string:\n",
            "The string is empty\n"
          ]
        }
      ],
      "source": [
        "string = input(\"Enter a string:\")\n",
        "if len(string) == 0:\n",
        "    print(\"The string is empty\")\n",
        "else:\n",
        "    print(\"The string is not empty\")"
      ]
    },
    {
      "cell_type": "markdown",
      "metadata": {
        "id": "RGWLO4fSM-5d"
      },
      "source": [
        "#### 20. Check if a number is greater than 10; if not, add 10 to it."
      ]
    },
    {
      "cell_type": "code",
      "execution_count": null,
      "metadata": {
        "colab": {
          "base_uri": "https://localhost:8080/"
        },
        "id": "MRtLp0GTFXqa",
        "outputId": "7708c3fa-1df7-4209-c813-83f67aaa992f"
      },
      "outputs": [
        {
          "name": "stdout",
          "output_type": "stream",
          "text": [
            "Enter a number: 4\n",
            "number: 14\n"
          ]
        }
      ],
      "source": [
        "num = int(input(\"Enter a number: \"))\n",
        "if num > 10:\n",
        "    pass\n",
        "else:\n",
        "    num +=10\n",
        "\n",
        "print(\"number:\",num)"
      ]
    },
    {
      "cell_type": "markdown",
      "metadata": {
        "id": "SqcdhmEYNCiF"
      },
      "source": [
        "#### 21. Write a program to categorize a person’s age group: child, teenager, or adult."
      ]
    },
    {
      "cell_type": "code",
      "execution_count": null,
      "metadata": {
        "colab": {
          "base_uri": "https://localhost:8080/"
        },
        "id": "MVf4zXdSMnAZ",
        "outputId": "6ca2e375-529d-402d-930e-2d0f603c2023"
      },
      "outputs": [
        {
          "name": "stdout",
          "output_type": "stream",
          "text": [
            "Enter age:22\n",
            "adult\n"
          ]
        }
      ],
      "source": [
        "age = int(input(\"Enter age:\"))\n",
        "\n",
        "if age >=1 and age <=12:\n",
        "    print(\"child\")\n",
        "elif age >=13 and age <=19:\n",
        "    print(\"teenager\")\n",
        "elif age > 19:\n",
        "    print(\"adult\")\n",
        "else:\n",
        "    print(\"invalid input\")"
      ]
    },
    {
      "cell_type": "markdown",
      "metadata": {
        "id": "DPiyT_3HMswD"
      },
      "source": [
        "#### 22. Determine if a number is positive, negative, or zero."
      ]
    },
    {
      "cell_type": "code",
      "execution_count": null,
      "metadata": {
        "colab": {
          "base_uri": "https://localhost:8080/"
        },
        "id": "iRRuGleTMwfU",
        "outputId": "495c40b8-633d-44c0-fe12-ca03412cfe55"
      },
      "outputs": [
        {
          "name": "stdout",
          "output_type": "stream",
          "text": [
            "Enter an integer: -8\n",
            "Negative number\n"
          ]
        }
      ],
      "source": [
        "num = int(input(\"Enter an integer: \"))\n",
        "\n",
        "if(num == 0):\n",
        "    print(\"Zero\")\n",
        "elif(num < 0):\n",
        "    print(\"Negative number\")\n",
        "else:\n",
        "    print(\"Positive number\")"
      ]
    },
    {
      "cell_type": "markdown",
      "metadata": {
        "id": "o6fFpp66Mw2g"
      },
      "source": [
        "#### 23. Check the grade of a student based on their score (A, B, C, etc.)."
      ]
    },
    {
      "cell_type": "code",
      "execution_count": null,
      "metadata": {
        "colab": {
          "base_uri": "https://localhost:8080/"
        },
        "id": "P7u2teESM0Jc",
        "outputId": "714e79e6-17d8-42cb-c7f3-12005e48fded"
      },
      "outputs": [
        {
          "name": "stdout",
          "output_type": "stream",
          "text": [
            "Enter the student's score: 59\n",
            "The grade is: F\n"
          ]
        }
      ],
      "source": [
        "def get_grade(score):\n",
        "    if score >= 90:\n",
        "        return \"A\"\n",
        "    elif score >= 80:\n",
        "        return \"B\"\n",
        "    elif score >= 70:\n",
        "        return \"C\"\n",
        "    elif score >= 60:\n",
        "        return \"D\"\n",
        "    else:\n",
        "        return \"F\"\n",
        "\n",
        "score = float(input(\"Enter the student's score: \"))\n",
        "grade = get_grade(score)\n",
        "print(f\"The grade is: {grade}\")"
      ]
    },
    {
      "cell_type": "markdown",
      "metadata": {
        "id": "Kn5OAK3HM0b4"
      },
      "source": [
        "#### 24. Write a program to check if a number is small (1-10), medium (11-20), or large (21+)."
      ]
    },
    {
      "cell_type": "code",
      "execution_count": null,
      "metadata": {
        "colab": {
          "base_uri": "https://localhost:8080/"
        },
        "id": "xll75nfUM4TA",
        "outputId": "e31779c5-cea3-462e-d2a9-1471cfbeb116"
      },
      "outputs": [
        {
          "name": "stdout",
          "output_type": "stream",
          "text": [
            "Enter a number:0\n",
            "The number 0 is less than 1\n"
          ]
        }
      ],
      "source": [
        "def check_num_size(num):\n",
        "    if 1 <= num <= 10:\n",
        "        return \"small\"\n",
        "    elif 11 <= num <= 20:\n",
        "        return \"medium\"\n",
        "    elif num >= 21:\n",
        "        return \"large\"\n",
        "    else:\n",
        "        return \"less than 1\"\n",
        "\n",
        "num = int(input(\"Enter a number:\"))\n",
        "result = check_num_size(num)\n",
        "print(f\"The number {num} is {result}\")"
      ]
    },
    {
      "cell_type": "markdown",
      "metadata": {
        "id": "06WoGOEiM4lD"
      },
      "source": [
        "#### 25. Check if a character is a vowel, consonant, or neither."
      ]
    },
    {
      "cell_type": "code",
      "execution_count": null,
      "metadata": {
        "colab": {
          "base_uri": "https://localhost:8080/"
        },
        "id": "x74OfqjkM61N",
        "outputId": "651d2010-d9df-4f3c-e2be-a1b54d43af01"
      },
      "outputs": [
        {
          "name": "stdout",
          "output_type": "stream",
          "text": [
            "Enter a single character: t\n",
            "The character 't' is a Consonant.\n"
          ]
        }
      ],
      "source": [
        "def check_character_type(char):\n",
        "\n",
        "    if len(char) != 1 or not char.isalpha():\n",
        "        return \"Neither\"\n",
        "\n",
        "    if char in \"aeiouAEIOU\":\n",
        "        return \"Vowel\"\n",
        "    else:\n",
        "        return \"Consonant\"\n",
        "\n",
        "char = input(\"Enter a single character: \")\n",
        "result = check_character_type(char)\n",
        "print(f\"The character '{char}' is a {result}.\")"
      ]
    },
    {
      "cell_type": "markdown",
      "metadata": {
        "id": "4YhNz8iDM8OK"
      },
      "source": [
        "#### 26. Determine the price based on age: under 10 (free), 10-18 ($5), 18+ ($10)."
      ]
    },
    {
      "cell_type": "code",
      "execution_count": null,
      "metadata": {
        "colab": {
          "base_uri": "https://localhost:8080/"
        },
        "id": "Jcu9DdjHM9ZJ",
        "outputId": "00888dc1-e4ea-488a-aac0-231ab6f52608"
      },
      "outputs": [
        {
          "name": "stdout",
          "output_type": "stream",
          "text": [
            "Enter age: 98\n",
            "price: 10\n"
          ]
        }
      ],
      "source": [
        "age = int(input(\"Enter age: \"))\n",
        "\n",
        "if age == 10:\n",
        "    print(\"price: free\")\n",
        "elif 10 <= age <= 18:\n",
        "    print(\"price: 5\")\n",
        "else:\n",
        "    print(\"price: 10\")"
      ]
    },
    {
      "cell_type": "markdown",
      "metadata": {
        "id": "N0lezioXM9t5"
      },
      "source": [
        "#### 27. Write a program to classify a number as small, medium, or large based on ranges."
      ]
    },
    {
      "cell_type": "code",
      "execution_count": null,
      "metadata": {
        "id": "GScNKxyMM_xk"
      },
      "outputs": [],
      "source": [
        "def check_num_size(num):\n",
        "    if 1 <= num <= 10:\n",
        "        return \"small\"\n",
        "    elif 11 <= num <= 20:\n",
        "        return \"medium\"\n",
        "    elif num >= 21:\n",
        "        return \"large\"\n",
        "    else:\n",
        "        return \"less than 1\"\n",
        "\n",
        "num = int(input(\"Enter a number:\"))\n",
        "result = check_num_size(num)\n",
        "print(f\"The number {num} is {result}\")"
      ]
    },
    {
      "cell_type": "markdown",
      "metadata": {
        "id": "bf6XpmEBNACU"
      },
      "source": [
        "#### 28. Determine if a temperature is cold, warm, or hot."
      ]
    },
    {
      "cell_type": "code",
      "execution_count": null,
      "metadata": {
        "id": "_dcP8g9xNCWl"
      },
      "outputs": [],
      "source": [
        "def check_temperature(temperature):\n",
        "\n",
        "    if temperature < 15:\n",
        "        return \"Cold\"\n",
        "    elif 15 <= temperature <= 25:\n",
        "        return \"Warm\"\n",
        "    else:\n",
        "        return \"Hot\"\n",
        "\n",
        "temperature = float(input(\"Enter the temperature: \"))\n",
        "result = check_temperature(temperature)\n",
        "print(f\"The temperature {temperature}°C is {result}.\")"
      ]
    },
    {
      "cell_type": "markdown",
      "metadata": {
        "id": "NrU48H2CNCte"
      },
      "source": [
        "#### 29. Categorize a number as low (1-33), medium (34-66), or high (67-100)."
      ]
    },
    {
      "cell_type": "code",
      "execution_count": null,
      "metadata": {
        "colab": {
          "base_uri": "https://localhost:8080/"
        },
        "id": "Ee26Byx1NM95",
        "outputId": "4efd8e1e-489c-439b-db19-86a913ca9315"
      },
      "outputs": [
        {
          "name": "stdout",
          "output_type": "stream",
          "text": [
            "Enter a number:-9\n",
            "The number -9 is less than 1\n"
          ]
        }
      ],
      "source": [
        "def check_num(num):\n",
        "    if 1 <= num <= 33:\n",
        "        return \"small\"\n",
        "    elif 34 <= num <= 66:\n",
        "        return \"medium\"\n",
        "    elif 67 <= num <= 100:\n",
        "        return \"large\"\n",
        "    elif num <= 0 :\n",
        "        return \"less than 1\"\n",
        "\n",
        "num = int(input(\"Enter a number:\"))\n",
        "result = check_num(num)\n",
        "print(f\"The number {num} is {result}\")"
      ]
    },
    {
      "cell_type": "markdown",
      "metadata": {
        "id": "ahK3zeJ-NOGx"
      },
      "source": [
        "#### 30. Check if a string is short (under 5 characters), medium (5-10 characters), or long (10+ characters)."
      ]
    },
    {
      "cell_type": "code",
      "execution_count": null,
      "metadata": {
        "colab": {
          "base_uri": "https://localhost:8080/"
        },
        "id": "Aoy6kAN7NPPg",
        "outputId": "9dd9d45c-5391-4d92-ab03-f8e03a488aec"
      },
      "outputs": [
        {
          "name": "stdout",
          "output_type": "stream",
          "text": [
            "Enter string:op\n",
            "op under 5 characters\n"
          ]
        }
      ],
      "source": [
        "def check_string(string):\n",
        "    if 1 <= len(string) < 5:\n",
        "        return \"under 5 characters\"\n",
        "    elif 5 <= len(string) <= 10:\n",
        "        return \"(5-10) characters\"\n",
        "    elif len(string) > 10:\n",
        "        return \"10+ characters\"\n",
        "    elif len(string) ==0 :\n",
        "        return \"empty\"\n",
        "\n",
        "string = input(\"Enter string:\")\n",
        "result = check_string(string)\n",
        "print(f\"{string} {result}\")"
      ]
    },
    {
      "cell_type": "markdown",
      "metadata": {
        "id": "bxpKWDirNPib"
      },
      "source": [
        "#### 31. Write a program to check if a number is positive, negative, or zero, then if it's even or odd."
      ]
    },
    {
      "cell_type": "code",
      "execution_count": null,
      "metadata": {
        "colab": {
          "base_uri": "https://localhost:8080/"
        },
        "id": "GMYO7MQQNR-2",
        "outputId": "6e0f63d1-fa81-4455-e951-1deea95965a1"
      },
      "outputs": [
        {
          "name": "stdout",
          "output_type": "stream",
          "text": [
            "Enter a number: -9\n",
            "-9 is negative\n"
          ]
        }
      ],
      "source": [
        "num = int(input(\"Enter a number: \"))\n",
        "\n",
        "if num > 0:\n",
        "    if num % 2 == 0:\n",
        "        print(f\"{num} is positive and even\")\n",
        "    else:\n",
        "        print(f\"{num} is positive and odd\")\n",
        "elif num < 0:\n",
        "    print(f\"{num} is negative\")\n",
        "else:\n",
        "    print(\"zero\")"
      ]
    },
    {
      "cell_type": "markdown",
      "metadata": {
        "id": "gnLRmj4rNSd3"
      },
      "source": [
        "#### 32. Check if a year is a leap year and also divisible by 400."
      ]
    },
    {
      "cell_type": "code",
      "execution_count": null,
      "metadata": {
        "colab": {
          "base_uri": "https://localhost:8080/"
        },
        "id": "mSPg4ZZDNXZS",
        "outputId": "9e85a76d-a0d9-40bd-86e6-f8f0e2c53696"
      },
      "outputs": [
        {
          "name": "stdout",
          "output_type": "stream",
          "text": [
            "Year: 2020\n",
            "2020 is not both a  leap year and divisible by 400\n"
          ]
        }
      ],
      "source": [
        "year = int(input('Year: '))\n",
        "\n",
        "if year % 400 == 0:\n",
        "    print(f\"{year} is a leap year and divisible by 400\")\n",
        "elif year % 4 == 0 and year % 100 !=0:\n",
        "    print(f\"{year} is not both a leap year and divisible by 400\")"
      ]
    },
    {
      "cell_type": "markdown",
      "metadata": {
        "id": "zsHoTaC7NXuk"
      },
      "source": [
        "#### 33. Write a program to check if a number is divisible by 2 and 3."
      ]
    },
    {
      "cell_type": "code",
      "execution_count": null,
      "metadata": {
        "colab": {
          "base_uri": "https://localhost:8080/"
        },
        "id": "ps7JuUd5NaEC",
        "outputId": "f358e0e4-7061-467d-8d19-df33724cadef"
      },
      "outputs": [
        {
          "name": "stdout",
          "output_type": "stream",
          "text": [
            "Enter a number: 15\n",
            "15 is not divisible by 2 and 3\n"
          ]
        }
      ],
      "source": [
        "num = int(input(\"Enter a number: \"))\n",
        "\n",
        "if num % 2 == 0 and num % 3 == 0:\n",
        "    print(f\"{num} is divisible by 2 and 3\")\n",
        "else:\n",
        "    print(f\"{num} is not divisible by 2 and 3\")"
      ]
    },
    {
      "cell_type": "markdown",
      "metadata": {
        "id": "O_emrO47Nag6"
      },
      "source": [
        "#### 34. Check if a string starts with a vowel and contains more than 5 characters."
      ]
    },
    {
      "cell_type": "code",
      "execution_count": null,
      "metadata": {
        "colab": {
          "base_uri": "https://localhost:8080/"
        },
        "id": "0cerXOzMNcsb",
        "outputId": "c6ac9a5c-9dfb-4de6-9b57-ff455f64a8c5"
      },
      "outputs": [
        {
          "name": "stdout",
          "output_type": "stream",
          "text": [
            "Enter a string: yutorieeieiei\n",
            "'yutorieeieiei' either doesn't start with a vowel and doesn't have more than 5 characters\n"
          ]
        }
      ],
      "source": [
        "string = input(\"Enter a string: \")\n",
        "\n",
        "vowels = 'aeiouAEIOU'\n",
        "\n",
        "if len(string) > 5 and string[0] in vowels:\n",
        "    print(f\"'{string}' starts with a vowel and has more than 5 characters\")\n",
        "else:\n",
        "    print(f\"'{string}' either doesn't start with a vowel and doesn't have more than 5 characters\")"
      ]
    },
    {
      "cell_type": "markdown",
      "metadata": {
        "id": "qVPcH2v0NdEl"
      },
      "source": [
        "#### 35. Determine if a person is eligible to vote; if yes, check if they’re also eligible for senior benefits (65+)."
      ]
    },
    {
      "cell_type": "code",
      "execution_count": null,
      "metadata": {
        "colab": {
          "base_uri": "https://localhost:8080/"
        },
        "id": "G99GyQR5Ne0B",
        "outputId": "51c71f65-7396-462a-9273-4d4216ac77dd"
      },
      "outputs": [
        {
          "name": "stdout",
          "output_type": "stream",
          "text": [
            "Enter your age: 65\n",
            "You are eligible to vote\n",
            "You are also eligible for senior benefits\n"
          ]
        }
      ],
      "source": [
        "age = int(input(\"Enter your age: \"))\n",
        "\n",
        "if age >= 18:\n",
        "    print(\"You are eligible to vote\")\n",
        "    if age >= 65:\n",
        "        print(\"You are also eligible for senior benefits\")\n",
        "    else:\n",
        "        print(\"You are not eligible for senior benefits\")\n",
        "else:\n",
        "    print(\"You are not eligible to vote\")"
      ]
    },
    {
      "cell_type": "markdown",
      "metadata": {
        "id": "ILQ5r_U5NfJR"
      },
      "source": [
        "#### 36. Write a program to check if a number is greater than 10; if so, check if it’s also less than 20."
      ]
    },
    {
      "cell_type": "code",
      "execution_count": null,
      "metadata": {
        "colab": {
          "base_uri": "https://localhost:8080/"
        },
        "id": "fwJckEg5NhQq",
        "outputId": "0c331cd7-161b-45ec-e706-84b4a7673992"
      },
      "outputs": [
        {
          "name": "stdout",
          "output_type": "stream",
          "text": [
            "Enter a number: 26\n",
            "26 is greater than 10\n"
          ]
        }
      ],
      "source": [
        "num = int(input(\"Enter a number: \"))\n",
        "\n",
        "if num > 10:\n",
        "    print(f\"{num} is greater than 10\")\n",
        "    if num < 20:\n",
        "        print(f\"{num} is less than 20 as well\")"
      ]
    },
    {
      "cell_type": "markdown",
      "metadata": {
        "id": "RNlN8avZNhlk"
      },
      "source": [
        "#### 37. Check if a number is within a range and is divisible by both 3 and 5."
      ]
    },
    {
      "cell_type": "code",
      "execution_count": null,
      "metadata": {
        "colab": {
          "base_uri": "https://localhost:8080/"
        },
        "id": "u1XMda3aNjJa",
        "outputId": "417d49d4-b120-40ee-939c-9f89cd01b923"
      },
      "outputs": [
        {
          "name": "stdout",
          "output_type": "stream",
          "text": [
            "Enter a number: 75\n",
            "75 is in range\n",
            "75 is divisible by both 3 and 5 also\n"
          ]
        }
      ],
      "source": [
        "num = int(input(\"Enter a number: \"))\n",
        "\n",
        "if 0 <= num and num <= 100:\n",
        "    print(f\"{num} is in range\")\n",
        "    if num % 3 == 0 and num % 5 == 0:\n",
        "        print(f\"{num} is divisible by both 3 and 5 also\")\n",
        "else:\n",
        "    print(f\"{num} is out of range\")"
      ]
    },
    {
      "cell_type": "markdown",
      "metadata": {
        "id": "L2gs-1V4NjhB"
      },
      "source": [
        "#### 38. Write a program to check if a number is positive; if not, check if it’s zero or negative."
      ]
    },
    {
      "cell_type": "code",
      "execution_count": null,
      "metadata": {
        "id": "NZJfpZctNla7"
      },
      "outputs": [],
      "source": []
    },
    {
      "cell_type": "markdown",
      "metadata": {
        "id": "YyIMHVqcNl3V"
      },
      "source": [
        "#### 39. Determine if a number is odd, then check if it’s prime."
      ]
    },
    {
      "cell_type": "code",
      "execution_count": null,
      "metadata": {
        "id": "cI7TevpcNnca"
      },
      "outputs": [],
      "source": []
    },
    {
      "cell_type": "markdown",
      "metadata": {
        "id": "YAlPfUEXNpiV"
      },
      "source": [
        "#### 40. Check if a student’s grade is A or B; if yes, check if they’re also on the honor roll."
      ]
    },
    {
      "cell_type": "code",
      "execution_count": null,
      "metadata": {
        "id": "TETUvG5ZNq1i"
      },
      "outputs": [],
      "source": []
    }
  ],
  "metadata": {
    "colab": {
      "provenance": []
    },
    "kernelspec": {
      "display_name": "Python 3",
      "name": "python3"
    },
    "language_info": {
      "codemirror_mode": {
        "name": "ipython",
        "version": 3
      },
      "file_extension": ".py",
      "mimetype": "text/x-python",
      "name": "python",
      "nbconvert_exporter": "python",
      "pygments_lexer": "ipython3",
      "version": "3.13.0"
    }
  },
  "nbformat": 4,
  "nbformat_minor": 0
}
